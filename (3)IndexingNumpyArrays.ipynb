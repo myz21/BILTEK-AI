{
  "nbformat": 4,
  "nbformat_minor": 0,
  "metadata": {
    "colab": {
      "provenance": [],
      "authorship_tag": "ABX9TyNn6jS+8JA5ffT8ni+28Ykc"
    },
    "kernelspec": {
      "name": "python3",
      "display_name": "Python 3"
    },
    "language_info": {
      "name": "python"
    }
  },
  "cells": [
    {
      "cell_type": "markdown",
      "source": [
        "#**Numpy Dizi Verilerine Erişim**"
      ],
      "metadata": {
        "id": "3IA9iqTkqR47"
      }
    },
    {
      "cell_type": "code",
      "source": [
        "import numpy as np"
      ],
      "metadata": {
        "id": "30ZVY9g2qyj7"
      },
      "execution_count": 1,
      "outputs": []
    },
    {
      "cell_type": "markdown",
      "source": [
        "Liste oluşturuyoruz."
      ],
      "metadata": {
        "id": "oB3dYR2Hq6rB"
      }
    },
    {
      "cell_type": "code",
      "source": [
        "numbers = np.array([1, 2, 3, 4, 5, 10, 15, 20, 50 , 75])\n",
        "#5. dizine erişiyoruz.\n",
        "result = numbers[5]\n",
        "#yazdıralım\n",
        "print(result)"
      ],
      "metadata": {
        "colab": {
          "base_uri": "https://localhost:8080/"
        },
        "id": "7I8ZluLurARb",
        "outputId": "ac51b34a-a830-41e6-b3cf-88d0bcde13f5"
      },
      "execution_count": 2,
      "outputs": [
        {
          "output_type": "stream",
          "name": "stdout",
          "text": [
            "10\n"
          ]
        }
      ]
    },
    {
      "cell_type": "markdown",
      "source": [
        "Belli aralıktaki değerler yazdırılır. [x,y) sınırlarında verilir."
      ],
      "metadata": {
        "id": "UAYcdt0jrjq6"
      }
    },
    {
      "cell_type": "code",
      "source": [
        "result2 = numbers[2:5]\n",
        "print(result2)"
      ],
      "metadata": {
        "colab": {
          "base_uri": "https://localhost:8080/"
        },
        "id": "vH-Uf6WyrufU",
        "outputId": "0c22932e-8a0f-4a81-98bd-63fa98b22a85"
      },
      "execution_count": 3,
      "outputs": [
        {
          "output_type": "stream",
          "name": "stdout",
          "text": [
            "[3 4 5]\n"
          ]
        }
      ]
    },
    {
      "cell_type": "markdown",
      "source": [
        "Belli bir yerden ihtibaren:"
      ],
      "metadata": {
        "id": "vH6VhRw3sFnJ"
      }
    },
    {
      "cell_type": "code",
      "source": [
        "result = numbers[3:]\n",
        "print(result)"
      ],
      "metadata": {
        "colab": {
          "base_uri": "https://localhost:8080/"
        },
        "id": "89RQ8-f2sJUT",
        "outputId": "25abbf13-066f-4731-e879-85f10d4ea9e8"
      },
      "execution_count": 4,
      "outputs": [
        {
          "output_type": "stream",
          "name": "stdout",
          "text": [
            "[ 4  5 10 15 20 50 75]\n"
          ]
        }
      ]
    },
    {
      "cell_type": "markdown",
      "source": [
        "Tüm dizi:"
      ],
      "metadata": {
        "id": "WEpKI-sEsS1t"
      }
    },
    {
      "cell_type": "code",
      "source": [
        "result = numbers[::]"
      ],
      "metadata": {
        "id": "4vN_4ZI6sUng"
      },
      "execution_count": 5,
      "outputs": []
    },
    {
      "cell_type": "code",
      "source": [
        "print(result)"
      ],
      "metadata": {
        "colab": {
          "base_uri": "https://localhost:8080/"
        },
        "id": "HZm2wRkhsZwU",
        "outputId": "0df7f678-fb58-4c01-b62a-4826456c7a8b"
      },
      "execution_count": 6,
      "outputs": [
        {
          "output_type": "stream",
          "name": "stdout",
          "text": [
            "[ 1  2  3  4  5 10 15 20 50 75]\n"
          ]
        }
      ]
    },
    {
      "cell_type": "markdown",
      "source": [
        "Listeyi ters çeviriyoruz."
      ],
      "metadata": {
        "id": "BoQA-Gu4slL2"
      }
    },
    {
      "cell_type": "code",
      "source": [
        "result = numbers[::-1]\n",
        "result2 = numbers[::-2]\n",
        "\n",
        "print(result)\n",
        "print(result2)"
      ],
      "metadata": {
        "colab": {
          "base_uri": "https://localhost:8080/"
        },
        "id": "t35wkv3nsq-3",
        "outputId": "8bb0e23e-96d1-4730-ff8f-cf693b011acd"
      },
      "execution_count": 7,
      "outputs": [
        {
          "output_type": "stream",
          "name": "stdout",
          "text": [
            "[75 50 20 15 10  5  4  3  2  1]\n",
            "[75 20 10  4  2]\n"
          ]
        }
      ]
    },
    {
      "cell_type": "markdown",
      "source": [
        "##**2 Boyutlu diziler üzerindeki çalışmalarım:**"
      ],
      "metadata": {
        "id": "Vg2XaaTotgdD"
      }
    },
    {
      "cell_type": "code",
      "source": [
        "numbers2 = np.array([[1, 2, 3, 4, 5], [6, 7, 8, 9, 10], [11, 12, 13, 14, 15]])\n",
        "print(numbers2)\n"
      ],
      "metadata": {
        "colab": {
          "base_uri": "https://localhost:8080/"
        },
        "id": "ZCEomEVPtnk_",
        "outputId": "c2fc3843-12b8-4efd-a465-ee8925833359"
      },
      "execution_count": 16,
      "outputs": [
        {
          "output_type": "stream",
          "name": "stdout",
          "text": [
            "[[ 1  2  3  4  5]\n",
            " [ 6  7  8  9 10]\n",
            " [11 12 13 14 15]]\n"
          ]
        }
      ]
    },
    {
      "cell_type": "markdown",
      "source": [
        "N. satırı yazdıralım."
      ],
      "metadata": {
        "id": "mLlrHjhZuBMa"
      }
    },
    {
      "cell_type": "code",
      "source": [
        "print(numbers2[0])"
      ],
      "metadata": {
        "colab": {
          "base_uri": "https://localhost:8080/"
        },
        "id": "9g78Q4XyuFGU",
        "outputId": "1926e85f-b742-4e60-ea51-8fb75f72ecca"
      },
      "execution_count": 9,
      "outputs": [
        {
          "output_type": "stream",
          "name": "stdout",
          "text": [
            "[1 2 3 4 5]\n"
          ]
        }
      ]
    },
    {
      "cell_type": "markdown",
      "source": [
        "i. satırın j. indexini yazdıralım."
      ],
      "metadata": {
        "id": "2LsBCA6qucK0"
      }
    },
    {
      "cell_type": "code",
      "source": [
        "print(numbers2[1,3])"
      ],
      "metadata": {
        "colab": {
          "base_uri": "https://localhost:8080/"
        },
        "id": "z8ONtXZaugLP",
        "outputId": "f296c33c-1098-42a0-dc8f-d58688cf6347"
      },
      "execution_count": 11,
      "outputs": [
        {
          "output_type": "stream",
          "name": "stdout",
          "text": [
            "9\n"
          ]
        }
      ]
    },
    {
      "cell_type": "markdown",
      "source": [
        "Tüm dizi içinden j. kolonu yazdıralım."
      ],
      "metadata": {
        "id": "L8kMgTCyu2mD"
      }
    },
    {
      "cell_type": "code",
      "source": [
        "columnJ = numbers2[:,4]\n",
        "print(columnJ)"
      ],
      "metadata": {
        "colab": {
          "base_uri": "https://localhost:8080/"
        },
        "id": "lbRe8tMSu7ZM",
        "outputId": "e9372284-70e1-4e5a-e931-0c81b4d9b082"
      },
      "execution_count": 12,
      "outputs": [
        {
          "output_type": "stream",
          "name": "stdout",
          "text": [
            "[ 5 10 15]\n"
          ]
        }
      ]
    },
    {
      "cell_type": "code",
      "source": [
        "columnJtoM = numbers2[:,1:4]\n",
        "print(columnJtoM)"
      ],
      "metadata": {
        "colab": {
          "base_uri": "https://localhost:8080/"
        },
        "id": "YH_rr1jpu_bO",
        "outputId": "a016c540-5713-4cee-b05f-bf6ba4913ffe"
      },
      "execution_count": 13,
      "outputs": [
        {
          "output_type": "stream",
          "name": "stdout",
          "text": [
            "[[ 2  3  4]\n",
            " [ 7  8  9]\n",
            " [12 13 14]]\n"
          ]
        }
      ]
    },
    {
      "cell_type": "markdown",
      "source": [
        "Bu sefer row yani satırları yazdıracağız. ':' işaretinin soluna istediğimiz satır numarasını yazıyoruz."
      ],
      "metadata": {
        "id": "dx_DFCPJwNfu"
      }
    },
    {
      "cell_type": "code",
      "source": [
        "rowN = numbers2[-1,:]\n",
        "#en son satırı yazdırıyıoruz\n",
        "print(rowN)"
      ],
      "metadata": {
        "colab": {
          "base_uri": "https://localhost:8080/"
        },
        "id": "0dYPuD3Zways",
        "outputId": "ea301b6e-1abc-46be-94e7-614232f55ac8"
      },
      "execution_count": 14,
      "outputs": [
        {
          "output_type": "stream",
          "name": "stdout",
          "text": [
            "[11 12 13 14 15]\n"
          ]
        }
      ]
    },
    {
      "cell_type": "markdown",
      "source": [
        "Dizimizin i. satırından m. satırına kadar, j. kolonundan m. kolonuna kadar yeni bir dizi olusturun."
      ],
      "metadata": {
        "id": "qLtHm_TJw1Cw"
      }
    },
    {
      "cell_type": "code",
      "source": [
        "newArray = numbers2[1:3,1:4]\n",
        "\n",
        "print(newArray)"
      ],
      "metadata": {
        "colab": {
          "base_uri": "https://localhost:8080/"
        },
        "id": "I2u8Xy42xV7g",
        "outputId": "feb44cd1-e7aa-4135-84d3-59ec17b4c90c"
      },
      "execution_count": 15,
      "outputs": [
        {
          "output_type": "stream",
          "name": "stdout",
          "text": [
            "[[ 7  8  9]\n",
            " [12 13 14]]\n"
          ]
        }
      ]
    },
    {
      "cell_type": "markdown",
      "source": [
        "İlk dizimizi atadığımız ikinci dizimizde değişiklik yapacağız. Şaşırtıcı bir şekilde ilk dizi de değişiyor.\n"
      ],
      "metadata": {
        "id": "RxfDBVL8yXKx"
      }
    },
    {
      "cell_type": "code",
      "source": [
        "arr1 = np.arange(0, 10)\n",
        "arr2 = arr1\n",
        "\n",
        "arr2[0] = 100\n",
        "\n",
        "print(arr1)\n",
        "print(arr2)"
      ],
      "metadata": {
        "colab": {
          "base_uri": "https://localhost:8080/"
        },
        "id": "59eTuZkgy0MY",
        "outputId": "74bb9b26-8b66-408b-833c-5698d8b61f47"
      },
      "execution_count": 17,
      "outputs": [
        {
          "output_type": "stream",
          "name": "stdout",
          "text": [
            "[100   1   2   3   4   5   6   7   8   9]\n",
            "[100   1   2   3   4   5   6   7   8   9]\n"
          ]
        }
      ]
    },
    {
      "cell_type": "markdown",
      "source": [
        "Burada referans kopyalama yaptık."
      ],
      "metadata": {
        "id": "NklP33Lkzi2S"
      }
    },
    {
      "cell_type": "markdown",
      "source": [
        "arr1 ve arr2 aynı adreste idi. Şimdi de farklı adreste olacak şekilde arr1 dizisini kopyalayalım."
      ],
      "metadata": {
        "id": "sVNPvNjPzCBs"
      }
    },
    {
      "cell_type": "code",
      "source": [
        "arr2 = arr1.copy()\n",
        "arr2[0] = 200\n",
        "print(arr1)\n",
        "print(arr2)"
      ],
      "metadata": {
        "colab": {
          "base_uri": "https://localhost:8080/"
        },
        "id": "GtFOaBgnzKsD",
        "outputId": "74eb2871-f8df-4e5c-cc06-9e3b1ca6bec0"
      },
      "execution_count": 18,
      "outputs": [
        {
          "output_type": "stream",
          "name": "stdout",
          "text": [
            "[100   1   2   3   4   5   6   7   8   9]\n",
            "[200   1   2   3   4   5   6   7   8   9]\n"
          ]
        }
      ]
    },
    {
      "cell_type": "markdown",
      "source": [
        "Görüldüğü gibi ilk listede güncellenme yapılmadı."
      ],
      "metadata": {
        "id": "FC2MIr-CzS1W"
      }
    },
    {
      "cell_type": "code",
      "source": [],
      "metadata": {
        "id": "HddlYe9DzYz0"
      },
      "execution_count": null,
      "outputs": []
    }
  ]
}