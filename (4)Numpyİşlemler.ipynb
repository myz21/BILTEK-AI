{
  "nbformat": 4,
  "nbformat_minor": 0,
  "metadata": {
    "colab": {
      "provenance": [],
      "authorship_tag": "ABX9TyOu+KnBJqdQBmnj9FYKGJEp",
      "include_colab_link": true
    },
    "kernelspec": {
      "name": "python3",
      "display_name": "Python 3"
    },
    "language_info": {
      "name": "python"
    }
  },
  "cells": [
    {
      "cell_type": "markdown",
      "metadata": {
        "id": "view-in-github",
        "colab_type": "text"
      },
      "source": [
        "<a href=\"https://colab.research.google.com/github/myz21/BILTEK-AI/blob/master/(4)Numpy%C4%B0%C5%9Flemler.ipynb\" target=\"_parent\"><img src=\"https://colab.research.google.com/assets/colab-badge.svg\" alt=\"Open In Colab\"/></a>"
      ]
    },
    {
      "cell_type": "code",
      "execution_count": 1,
      "metadata": {
        "id": "Vwmm49L50eHX"
      },
      "outputs": [],
      "source": [
        "import numpy as np"
      ]
    },
    {
      "cell_type": "code",
      "source": [
        "numbers1 = np.random.randint(10,100,6)\n",
        "numbers2 = np.random.randint(10,100,6)\n"
      ],
      "metadata": {
        "id": "4tSESSu10q9k"
      },
      "execution_count": 2,
      "outputs": []
    },
    {
      "cell_type": "markdown",
      "source": [
        "Belli aralıkta, elemanları rastgele tam sayılar olacak şekilde, 6 elemanlı iki dizi oluşturduk."
      ],
      "metadata": {
        "id": "jYEMKq_Y1Blv"
      }
    },
    {
      "cell_type": "code",
      "source": [
        "print(numbers1)\n",
        "print(numbers2)"
      ],
      "metadata": {
        "colab": {
          "base_uri": "https://localhost:8080/"
        },
        "id": "lh8EjBjK1AKd",
        "outputId": "b8efdcb7-2e4d-47db-c46d-10e0435d5e34"
      },
      "execution_count": 3,
      "outputs": [
        {
          "output_type": "stream",
          "name": "stdout",
          "text": [
            "[24 94 70 91 71 42]\n",
            "[57 79 86 49 38 55]\n"
          ]
        }
      ]
    },
    {
      "cell_type": "markdown",
      "source": [
        "Vektörlerimizi (dizilerimizi) toplayalım."
      ],
      "metadata": {
        "id": "KOC3cXUA1T0O"
      }
    },
    {
      "cell_type": "code",
      "source": [
        "result = numbers1 + numbers2\n",
        "\n",
        "print(result)"
      ],
      "metadata": {
        "colab": {
          "base_uri": "https://localhost:8080/"
        },
        "id": "BBgdf8vc1a3b",
        "outputId": "74840d21-c22b-47ac-dce8-2990d7278ac7"
      },
      "execution_count": 4,
      "outputs": [
        {
          "output_type": "stream",
          "name": "stdout",
          "text": [
            "[ 81 173 156 140 109  97]\n"
          ]
        }
      ]
    },
    {
      "cell_type": "markdown",
      "source": [
        "Diziden belli sayıyı çıkaralım."
      ],
      "metadata": {
        "id": "DLv1Sujw1nu4"
      }
    },
    {
      "cell_type": "code",
      "source": [
        "result = numbers1 - 10\n",
        "print(result)"
      ],
      "metadata": {
        "colab": {
          "base_uri": "https://localhost:8080/"
        },
        "id": "204IvKGz1sCC",
        "outputId": "ed124c7c-dd06-4dc8-b6af-f674d5c99a33"
      },
      "execution_count": 5,
      "outputs": [
        {
          "output_type": "stream",
          "name": "stdout",
          "text": [
            "[14 84 60 81 61 32]\n"
          ]
        }
      ]
    },
    {
      "cell_type": "markdown",
      "source": [
        "İki dizinin farkı:"
      ],
      "metadata": {
        "id": "WeRI8Gh-1wue"
      }
    },
    {
      "cell_type": "code",
      "source": [
        "result = numbers1 - numbers2\n",
        "\n",
        "print(result)\n"
      ],
      "metadata": {
        "colab": {
          "base_uri": "https://localhost:8080/"
        },
        "id": "vOVVZ1J51ygR",
        "outputId": "847eb9ea-58ef-4546-86bd-bdcd86e75402"
      },
      "execution_count": 6,
      "outputs": [
        {
          "output_type": "stream",
          "name": "stdout",
          "text": [
            "[-33  15 -16  42  33 -13]\n"
          ]
        }
      ]
    },
    {
      "cell_type": "code",
      "source": [
        "result  = numbers1 * numbers2\n",
        "\n",
        "print(result)"
      ],
      "metadata": {
        "colab": {
          "base_uri": "https://localhost:8080/"
        },
        "id": "ELl9Neov11Ym",
        "outputId": "d771bac0-6007-475e-8e94-685b3f13a5b8"
      },
      "execution_count": 8,
      "outputs": [
        {
          "output_type": "stream",
          "name": "stdout",
          "text": [
            "[1368 7426 6020 4459 2698 2310]\n"
          ]
        }
      ]
    },
    {
      "cell_type": "markdown",
      "source": [
        "Dizinin sinüs, karekök, logaritma değerini alıp bunları ayrı listeler içine yazdıralım"
      ],
      "metadata": {
        "id": "p22PEEM52JIg"
      }
    },
    {
      "cell_type": "code",
      "source": [
        "result = np.sin(numbers1)\n",
        "print(result)\n",
        "result = np.sqrt(numbers1)\n",
        "print(result)\n",
        "result = np.log(numbers1)\n",
        "print(result)"
      ],
      "metadata": {
        "colab": {
          "base_uri": "https://localhost:8080/"
        },
        "id": "EDjt465J2bfb",
        "outputId": "d7fae462-6564-4953-b8f8-b2256b3f739c"
      },
      "execution_count": 9,
      "outputs": [
        {
          "output_type": "stream",
          "name": "stdout",
          "text": [
            "[-0.90557836 -0.24525199  0.77389068  0.10598751  0.95105465 -0.91652155]\n",
            "[4.89897949 9.69535971 8.36660027 9.53939201 8.42614977 6.4807407 ]\n",
            "[3.17805383 4.54329478 4.24849524 4.51085951 4.26267988 3.73766962]\n"
          ]
        }
      ]
    },
    {
      "cell_type": "markdown",
      "source": [
        "6x1 olan dizilerden 2x3'lük 2 x 3 matris oluşturduk."
      ],
      "metadata": {
        "id": "S7zWxrJG27-y"
      }
    },
    {
      "cell_type": "code",
      "source": [
        "multiNumbers1 = numbers1.reshape(2,3)\n",
        "multiNumbers2 = numbers2.reshape(2,3)\n",
        "print(\"multiNumbers1\")\n",
        "print(multiNumbers1)\n",
        "print(\"multiNumbers2\")\n",
        "print(multiNumbers2)"
      ],
      "metadata": {
        "colab": {
          "base_uri": "https://localhost:8080/"
        },
        "id": "ODQSAj_x2l4u",
        "outputId": "5fafc420-c3cf-46cf-c1ff-7590cb1c38d3"
      },
      "execution_count": 10,
      "outputs": [
        {
          "output_type": "stream",
          "name": "stdout",
          "text": [
            "multiNumbers1\n",
            "[[24 94 70]\n",
            " [91 71 42]]\n",
            "multiNumbers2\n",
            "[[57 79 86]\n",
            " [49 38 55]]\n"
          ]
        }
      ]
    },
    {
      "cell_type": "markdown",
      "source": [
        "Dizileri alt alta birbirleriyle birleştirelim. Yeni yığın dizimizi yazdıralım."
      ],
      "metadata": {
        "id": "VJg5Dx353cx8"
      }
    },
    {
      "cell_type": "code",
      "source": [
        "result = np.vstack((multiNumbers1,multiNumbers2))\n",
        "print(\"Stack vertically.\")\n",
        "print(result)"
      ],
      "metadata": {
        "colab": {
          "base_uri": "https://localhost:8080/"
        },
        "id": "A1BjFgtE3lk2",
        "outputId": "70adb676-af97-43db-fda0-f6498178dc7c"
      },
      "execution_count": 12,
      "outputs": [
        {
          "output_type": "stream",
          "name": "stdout",
          "text": [
            "Stack vertically.\n",
            "[[24 94 70]\n",
            " [91 71 42]\n",
            " [57 79 86]\n",
            " [49 38 55]]\n"
          ]
        }
      ]
    },
    {
      "cell_type": "markdown",
      "source": [
        "Dizielri yatay olarak birleştirelim."
      ],
      "metadata": {
        "id": "SiPXFlNs38IO"
      }
    },
    {
      "cell_type": "code",
      "source": [
        "result = np.hstack((multiNumbers1,multiNumbers2))\n",
        "print(\"Stack horizontally.\")\n",
        "print(result)"
      ],
      "metadata": {
        "colab": {
          "base_uri": "https://localhost:8080/"
        },
        "id": "aAdZhx3_3_LC",
        "outputId": "c7a79850-b33b-4587-aa4a-2b1f2abd4e26"
      },
      "execution_count": 13,
      "outputs": [
        {
          "output_type": "stream",
          "name": "stdout",
          "text": [
            "Stack horizontally.\n",
            "[[24 94 70 57 79 86]\n",
            " [91 71 42 49 38 55]]\n"
          ]
        }
      ]
    },
    {
      "cell_type": "markdown",
      "source": [
        "Dizinin elemanlarının her birinin belli bir değerden büyük olup olmadığını kontrol ediyoruz."
      ],
      "metadata": {
        "id": "sgKulAcQ4W24"
      }
    },
    {
      "cell_type": "code",
      "source": [
        "#Boolean dizisi oluşturulacak.\n",
        "result = numbers2 > 50\n",
        "print(result)"
      ],
      "metadata": {
        "colab": {
          "base_uri": "https://localhost:8080/"
        },
        "id": "jg5aJ93c4eWW",
        "outputId": "04117f7d-a953-4185-b39a-72dc56ce290d"
      },
      "execution_count": 14,
      "outputs": [
        {
          "output_type": "stream",
          "name": "stdout",
          "text": [
            "[ True  True  True False False  True]\n"
          ]
        }
      ]
    },
    {
      "cell_type": "markdown",
      "source": [
        "Dizi elemanlarının belli bir işlemi sağlayıp sağlamadığını kontrol ediyoruz. Yeni bir boolean dizisi daha :)\n"
      ],
      "metadata": {
        "id": "ZbvElj3E43aH"
      }
    },
    {
      "cell_type": "code",
      "source": [
        "result = numbers2 % 2 == 0\n",
        "print(result)"
      ],
      "metadata": {
        "colab": {
          "base_uri": "https://localhost:8080/"
        },
        "id": "vc23O7tu4nuy",
        "outputId": "a88b8998-39e9-4fe7-d860-0af983f8a240"
      },
      "execution_count": 15,
      "outputs": [
        {
          "output_type": "stream",
          "name": "stdout",
          "text": [
            "[False False  True False  True False]\n"
          ]
        }
      ]
    },
    {
      "cell_type": "markdown",
      "source": [
        "Hangi elemanların bu koşulları sağladığını bulacağız."
      ],
      "metadata": {
        "id": "MjcYn8_H5nyy"
      }
    },
    {
      "cell_type": "code",
      "source": [
        "result = numbers2 % 2 == 0\n",
        "print(numbers2[result])"
      ],
      "metadata": {
        "colab": {
          "base_uri": "https://localhost:8080/"
        },
        "id": "gz9SC-q55syg",
        "outputId": "e7b5c978-9afe-48df-c66f-f2af8bd0ca2d"
      },
      "execution_count": 17,
      "outputs": [
        {
          "output_type": "stream",
          "name": "stdout",
          "text": [
            "[86 38]\n"
          ]
        }
      ]
    },
    {
      "cell_type": "code",
      "source": [],
      "metadata": {
        "id": "j1uZb-OQ51Wn"
      },
      "execution_count": null,
      "outputs": []
    }
  ]
}