{
 "cells": [
  {
   "cell_type": "markdown",
   "metadata": {},
   "source": [
    "# VERİ ÖN İŞLEME"
   ]
  },
  {
   "cell_type": "markdown",
   "metadata": {
    "id": "EZtbdUGmZPNO"
   },
   "source": [
    "# 1. Kütüphanelerin içe aktarılması\n"
   ]
  },
  {
   "cell_type": "code",
   "execution_count": 1,
   "metadata": {
    "id": "UUMzX14gWTI_"
   },
   "outputs": [],
   "source": [
    "import numpy as np #lineer cebir\n",
    "import pandas as pd #veri işleme, csv okuma\n",
    "import matplotlib.pyplot as plt #veri görselleştirme\n",
    "import seaborn as sns #istatisiksel veri görselleştirme\n",
    "import warnings\n",
    "warnings.filterwarnings('ignore')\n",
    "\n",
    "\n",
    "%matplotlib inline"
   ]
  },
  {
   "cell_type": "markdown",
   "metadata": {
    "id": "R3RdILGBZdVC"
   },
   "source": [
    "# 2. Veri Kümesini içe aktarma"
   ]
  },
  {
   "cell_type": "code",
   "execution_count": 2,
   "metadata": {
    "colab": {
     "base_uri": "https://localhost:8080/",
     "height": 321
    },
    "id": "upru2c2-ZOX1",
    "outputId": "8e718dbf-475e-4ad8-c54e-5c29473f423a"
   },
   "outputs": [],
   "source": [
    "data = 'Live.csv'\n",
    "df = pd.read_csv(data)"
   ]
  },
  {
   "cell_type": "markdown",
   "metadata": {
    "id": "Vw-IyNs8buK7"
   },
   "source": [
    "# 3. (EDA) Keşifsel Veri Analizi"
   ]
  },
  {
   "cell_type": "markdown",
   "metadata": {
    "id": "BqP9pqsxb3qA"
   },
   "source": [
    "Veri kümesinin şekli:"
   ]
  },
  {
   "cell_type": "code",
   "execution_count": 3,
   "metadata": {
    "colab": {
     "base_uri": "https://localhost:8080/",
     "height": 141
    },
    "id": "_afPMP-MZYLb",
    "outputId": "8600f807-bec0-4b2d-c7e0-78a59ba292b2"
   },
   "outputs": [
    {
     "data": {
      "text/plain": [
       "(7050, 16)"
      ]
     },
     "execution_count": 3,
     "metadata": {},
     "output_type": "execute_result"
    }
   ],
   "source": [
    "df.shape"
   ]
  },
  {
   "cell_type": "markdown",
   "metadata": {
    "id": "KQmLJoegb4ai"
   },
   "source": [
    "Veri kümesinin önizlemesi:"
   ]
  },
  {
   "cell_type": "code",
   "execution_count": 4,
   "metadata": {
    "colab": {
     "base_uri": "https://localhost:8080/",
     "height": 141
    },
    "id": "1fZubAQRZMsC",
    "outputId": "bf608b23-06f6-4218-e966-1ac1148c4364"
   },
   "outputs": [
    {
     "data": {
      "text/html": [
       "<div>\n",
       "<style scoped>\n",
       "    .dataframe tbody tr th:only-of-type {\n",
       "        vertical-align: middle;\n",
       "    }\n",
       "\n",
       "    .dataframe tbody tr th {\n",
       "        vertical-align: top;\n",
       "    }\n",
       "\n",
       "    .dataframe thead th {\n",
       "        text-align: right;\n",
       "    }\n",
       "</style>\n",
       "<table border=\"1\" class=\"dataframe\">\n",
       "  <thead>\n",
       "    <tr style=\"text-align: right;\">\n",
       "      <th></th>\n",
       "      <th>status_id</th>\n",
       "      <th>status_type</th>\n",
       "      <th>status_published</th>\n",
       "      <th>num_reactions</th>\n",
       "      <th>num_comments</th>\n",
       "      <th>num_shares</th>\n",
       "      <th>num_likes</th>\n",
       "      <th>num_loves</th>\n",
       "      <th>num_wows</th>\n",
       "      <th>num_hahas</th>\n",
       "      <th>num_sads</th>\n",
       "      <th>num_angrys</th>\n",
       "      <th>Column1</th>\n",
       "      <th>Column2</th>\n",
       "      <th>Column3</th>\n",
       "      <th>Column4</th>\n",
       "    </tr>\n",
       "  </thead>\n",
       "  <tbody>\n",
       "    <tr>\n",
       "      <th>0</th>\n",
       "      <td>246675545449582_1649696485147474</td>\n",
       "      <td>video</td>\n",
       "      <td>4/22/2018 6:00</td>\n",
       "      <td>529</td>\n",
       "      <td>512</td>\n",
       "      <td>262</td>\n",
       "      <td>432</td>\n",
       "      <td>92</td>\n",
       "      <td>3</td>\n",
       "      <td>1</td>\n",
       "      <td>1</td>\n",
       "      <td>0</td>\n",
       "      <td>NaN</td>\n",
       "      <td>NaN</td>\n",
       "      <td>NaN</td>\n",
       "      <td>NaN</td>\n",
       "    </tr>\n",
       "    <tr>\n",
       "      <th>1</th>\n",
       "      <td>246675545449582_1649426988507757</td>\n",
       "      <td>photo</td>\n",
       "      <td>4/21/2018 22:45</td>\n",
       "      <td>150</td>\n",
       "      <td>0</td>\n",
       "      <td>0</td>\n",
       "      <td>150</td>\n",
       "      <td>0</td>\n",
       "      <td>0</td>\n",
       "      <td>0</td>\n",
       "      <td>0</td>\n",
       "      <td>0</td>\n",
       "      <td>NaN</td>\n",
       "      <td>NaN</td>\n",
       "      <td>NaN</td>\n",
       "      <td>NaN</td>\n",
       "    </tr>\n",
       "    <tr>\n",
       "      <th>2</th>\n",
       "      <td>246675545449582_1648730588577397</td>\n",
       "      <td>video</td>\n",
       "      <td>4/21/2018 6:17</td>\n",
       "      <td>227</td>\n",
       "      <td>236</td>\n",
       "      <td>57</td>\n",
       "      <td>204</td>\n",
       "      <td>21</td>\n",
       "      <td>1</td>\n",
       "      <td>1</td>\n",
       "      <td>0</td>\n",
       "      <td>0</td>\n",
       "      <td>NaN</td>\n",
       "      <td>NaN</td>\n",
       "      <td>NaN</td>\n",
       "      <td>NaN</td>\n",
       "    </tr>\n",
       "    <tr>\n",
       "      <th>3</th>\n",
       "      <td>246675545449582_1648576705259452</td>\n",
       "      <td>photo</td>\n",
       "      <td>4/21/2018 2:29</td>\n",
       "      <td>111</td>\n",
       "      <td>0</td>\n",
       "      <td>0</td>\n",
       "      <td>111</td>\n",
       "      <td>0</td>\n",
       "      <td>0</td>\n",
       "      <td>0</td>\n",
       "      <td>0</td>\n",
       "      <td>0</td>\n",
       "      <td>NaN</td>\n",
       "      <td>NaN</td>\n",
       "      <td>NaN</td>\n",
       "      <td>NaN</td>\n",
       "    </tr>\n",
       "    <tr>\n",
       "      <th>4</th>\n",
       "      <td>246675545449582_1645700502213739</td>\n",
       "      <td>photo</td>\n",
       "      <td>4/18/2018 3:22</td>\n",
       "      <td>213</td>\n",
       "      <td>0</td>\n",
       "      <td>0</td>\n",
       "      <td>204</td>\n",
       "      <td>9</td>\n",
       "      <td>0</td>\n",
       "      <td>0</td>\n",
       "      <td>0</td>\n",
       "      <td>0</td>\n",
       "      <td>NaN</td>\n",
       "      <td>NaN</td>\n",
       "      <td>NaN</td>\n",
       "      <td>NaN</td>\n",
       "    </tr>\n",
       "  </tbody>\n",
       "</table>\n",
       "</div>"
      ],
      "text/plain": [
       "                          status_id status_type status_published  \\\n",
       "0  246675545449582_1649696485147474       video   4/22/2018 6:00   \n",
       "1  246675545449582_1649426988507757       photo  4/21/2018 22:45   \n",
       "2  246675545449582_1648730588577397       video   4/21/2018 6:17   \n",
       "3  246675545449582_1648576705259452       photo   4/21/2018 2:29   \n",
       "4  246675545449582_1645700502213739       photo   4/18/2018 3:22   \n",
       "\n",
       "   num_reactions  num_comments  num_shares  num_likes  num_loves  num_wows  \\\n",
       "0            529           512         262        432         92         3   \n",
       "1            150             0           0        150          0         0   \n",
       "2            227           236          57        204         21         1   \n",
       "3            111             0           0        111          0         0   \n",
       "4            213             0           0        204          9         0   \n",
       "\n",
       "   num_hahas  num_sads  num_angrys  Column1  Column2  Column3  Column4  \n",
       "0          1         1           0      NaN      NaN      NaN      NaN  \n",
       "1          0         0           0      NaN      NaN      NaN      NaN  \n",
       "2          1         0           0      NaN      NaN      NaN      NaN  \n",
       "3          0         0           0      NaN      NaN      NaN      NaN  \n",
       "4          0         0           0      NaN      NaN      NaN      NaN  "
      ]
     },
     "execution_count": 4,
     "metadata": {},
     "output_type": "execute_result"
    }
   ],
   "source": [
    "df.head()"
   ]
  },
  {
   "cell_type": "markdown",
   "metadata": {
    "id": "Da7byaPBcFFt"
   },
   "source": [
    "Veri kümesinin özet bilgisi:"
   ]
  },
  {
   "cell_type": "code",
   "execution_count": 5,
   "metadata": {
    "id": "3ynWWTgsZMKt"
   },
   "outputs": [
    {
     "name": "stdout",
     "output_type": "stream",
     "text": [
      "<class 'pandas.core.frame.DataFrame'>\n",
      "RangeIndex: 7050 entries, 0 to 7049\n",
      "Data columns (total 16 columns):\n",
      " #   Column            Non-Null Count  Dtype  \n",
      "---  ------            --------------  -----  \n",
      " 0   status_id         7050 non-null   object \n",
      " 1   status_type       7050 non-null   object \n",
      " 2   status_published  7050 non-null   object \n",
      " 3   num_reactions     7050 non-null   int64  \n",
      " 4   num_comments      7050 non-null   int64  \n",
      " 5   num_shares        7050 non-null   int64  \n",
      " 6   num_likes         7050 non-null   int64  \n",
      " 7   num_loves         7050 non-null   int64  \n",
      " 8   num_wows          7050 non-null   int64  \n",
      " 9   num_hahas         7050 non-null   int64  \n",
      " 10  num_sads          7050 non-null   int64  \n",
      " 11  num_angrys        7050 non-null   int64  \n",
      " 12  Column1           0 non-null      float64\n",
      " 13  Column2           0 non-null      float64\n",
      " 14  Column3           0 non-null      float64\n",
      " 15  Column4           0 non-null      float64\n",
      "dtypes: float64(4), int64(9), object(3)\n",
      "memory usage: 881.4+ KB\n"
     ]
    }
   ],
   "source": [
    "df.info()"
   ]
  },
  {
   "cell_type": "markdown",
   "metadata": {
    "id": "LZCgyZ6NcNJo"
   },
   "source": [
    "Eksik değerler:"
   ]
  },
  {
   "cell_type": "code",
   "execution_count": 6,
   "metadata": {
    "colab": {
     "base_uri": "https://localhost:8080/",
     "height": 141
    },
    "id": "DjVIQfQBcIGq",
    "outputId": "49e43929-d2e4-4e5f-9938-1fde0c16bece"
   },
   "outputs": [
    {
     "data": {
      "text/plain": [
       "status_id              0\n",
       "status_type            0\n",
       "status_published       0\n",
       "num_reactions          0\n",
       "num_comments           0\n",
       "num_shares             0\n",
       "num_likes              0\n",
       "num_loves              0\n",
       "num_wows               0\n",
       "num_hahas              0\n",
       "num_sads               0\n",
       "num_angrys             0\n",
       "Column1             7050\n",
       "Column2             7050\n",
       "Column3             7050\n",
       "Column4             7050\n",
       "dtype: int64"
      ]
     },
     "execution_count": 6,
     "metadata": {},
     "output_type": "execute_result"
    }
   ],
   "source": [
    "df.isnull().sum()"
   ]
  },
  {
   "cell_type": "markdown",
   "metadata": {
    "id": "wp3qJaG0chSH"
   },
   "source": [
    "`df.drop(['Column1', 'Column2', 'Column3', 'Column4'], axis=1, inplace=True)` ifadesinde, `axis=1` parametresi şu anlamlara gelir:\n",
    "\n",
    "- **`axis=1`**: Bu, işlemin sütunlar üzerinde yapılacağını belirtir. Pandas'ta, `axis` parametresi iki farklı ekseni temsil eder:\n",
    "  - **`axis=0`**: Satırlar üzerinde işlem yapar.\n",
    "  - **`axis=1`**: Sütunlar üzerinde işlem yapar.\n",
    "\n",
    "Bu örnekte, `axis=1` kullanarak belirtilen sütunları (`Column1`, `Column2`, `Column3`, `Column4`) veri çerçevesinden kaldırıyorsunuz.\n",
    "\n",
    "Ayrıca, `inplace=True` parametresi, değişikliklerin orijinal veri çerçevesinde yapılmasını ve yeni bir veri çerçevesi oluşturulmadan bu değişikliklerin uygulanmasını sağlar. Eğer `inplace=False` (veya `inplace` parametresi belirtilmemişse) olsaydı, `drop` metodu yeni bir veri çerçevesi döndürürdü ve orijinal veri çerçevesinde hiçbir değişiklik yapmazdı."
   ]
  },
  {
   "cell_type": "code",
   "execution_count": 7,
   "metadata": {
    "id": "MsxJHYXCcRaI"
   },
   "outputs": [],
   "source": [
    "df.drop(['Column1', 'Column2', 'Column3', 'Column4'], axis=1, inplace=True)"
   ]
  },
  {
   "cell_type": "code",
   "execution_count": 8,
   "metadata": {
    "id": "0qiFkrTUcmeZ"
   },
   "outputs": [
    {
     "name": "stdout",
     "output_type": "stream",
     "text": [
      "<class 'pandas.core.frame.DataFrame'>\n",
      "RangeIndex: 7050 entries, 0 to 7049\n",
      "Data columns (total 12 columns):\n",
      " #   Column            Non-Null Count  Dtype \n",
      "---  ------            --------------  ----- \n",
      " 0   status_id         7050 non-null   object\n",
      " 1   status_type       7050 non-null   object\n",
      " 2   status_published  7050 non-null   object\n",
      " 3   num_reactions     7050 non-null   int64 \n",
      " 4   num_comments      7050 non-null   int64 \n",
      " 5   num_shares        7050 non-null   int64 \n",
      " 6   num_likes         7050 non-null   int64 \n",
      " 7   num_loves         7050 non-null   int64 \n",
      " 8   num_wows          7050 non-null   int64 \n",
      " 9   num_hahas         7050 non-null   int64 \n",
      " 10  num_sads          7050 non-null   int64 \n",
      " 11  num_angrys        7050 non-null   int64 \n",
      "dtypes: int64(9), object(3)\n",
      "memory usage: 661.1+ KB\n"
     ]
    }
   ],
   "source": [
    "df.info()"
   ]
  },
  {
   "cell_type": "markdown",
   "metadata": {
    "id": "DSMz4xTrcyWZ"
   },
   "source": [
    "Veri kümesinde 3 karakter değişkeni (tipi = object) ve geri kalan 9 sayısal değişken (tipi = int64) bulunmaktadır."
   ]
  },
  {
   "cell_type": "code",
   "execution_count": 9,
   "metadata": {
    "id": "YP7AxVnfcqmX"
   },
   "outputs": [
    {
     "data": {
      "text/html": [
       "<div>\n",
       "<style scoped>\n",
       "    .dataframe tbody tr th:only-of-type {\n",
       "        vertical-align: middle;\n",
       "    }\n",
       "\n",
       "    .dataframe tbody tr th {\n",
       "        vertical-align: top;\n",
       "    }\n",
       "\n",
       "    .dataframe thead th {\n",
       "        text-align: right;\n",
       "    }\n",
       "</style>\n",
       "<table border=\"1\" class=\"dataframe\">\n",
       "  <thead>\n",
       "    <tr style=\"text-align: right;\">\n",
       "      <th></th>\n",
       "      <th>status_id</th>\n",
       "      <th>status_type</th>\n",
       "      <th>status_published</th>\n",
       "      <th>num_reactions</th>\n",
       "      <th>num_comments</th>\n",
       "      <th>num_shares</th>\n",
       "      <th>num_likes</th>\n",
       "      <th>num_loves</th>\n",
       "      <th>num_wows</th>\n",
       "      <th>num_hahas</th>\n",
       "      <th>num_sads</th>\n",
       "      <th>num_angrys</th>\n",
       "    </tr>\n",
       "  </thead>\n",
       "  <tbody>\n",
       "    <tr>\n",
       "      <th>0</th>\n",
       "      <td>246675545449582_1649696485147474</td>\n",
       "      <td>video</td>\n",
       "      <td>4/22/2018 6:00</td>\n",
       "      <td>529</td>\n",
       "      <td>512</td>\n",
       "      <td>262</td>\n",
       "      <td>432</td>\n",
       "      <td>92</td>\n",
       "      <td>3</td>\n",
       "      <td>1</td>\n",
       "      <td>1</td>\n",
       "      <td>0</td>\n",
       "    </tr>\n",
       "    <tr>\n",
       "      <th>1</th>\n",
       "      <td>246675545449582_1649426988507757</td>\n",
       "      <td>photo</td>\n",
       "      <td>4/21/2018 22:45</td>\n",
       "      <td>150</td>\n",
       "      <td>0</td>\n",
       "      <td>0</td>\n",
       "      <td>150</td>\n",
       "      <td>0</td>\n",
       "      <td>0</td>\n",
       "      <td>0</td>\n",
       "      <td>0</td>\n",
       "      <td>0</td>\n",
       "    </tr>\n",
       "    <tr>\n",
       "      <th>2</th>\n",
       "      <td>246675545449582_1648730588577397</td>\n",
       "      <td>video</td>\n",
       "      <td>4/21/2018 6:17</td>\n",
       "      <td>227</td>\n",
       "      <td>236</td>\n",
       "      <td>57</td>\n",
       "      <td>204</td>\n",
       "      <td>21</td>\n",
       "      <td>1</td>\n",
       "      <td>1</td>\n",
       "      <td>0</td>\n",
       "      <td>0</td>\n",
       "    </tr>\n",
       "    <tr>\n",
       "      <th>3</th>\n",
       "      <td>246675545449582_1648576705259452</td>\n",
       "      <td>photo</td>\n",
       "      <td>4/21/2018 2:29</td>\n",
       "      <td>111</td>\n",
       "      <td>0</td>\n",
       "      <td>0</td>\n",
       "      <td>111</td>\n",
       "      <td>0</td>\n",
       "      <td>0</td>\n",
       "      <td>0</td>\n",
       "      <td>0</td>\n",
       "      <td>0</td>\n",
       "    </tr>\n",
       "    <tr>\n",
       "      <th>4</th>\n",
       "      <td>246675545449582_1645700502213739</td>\n",
       "      <td>photo</td>\n",
       "      <td>4/18/2018 3:22</td>\n",
       "      <td>213</td>\n",
       "      <td>0</td>\n",
       "      <td>0</td>\n",
       "      <td>204</td>\n",
       "      <td>9</td>\n",
       "      <td>0</td>\n",
       "      <td>0</td>\n",
       "      <td>0</td>\n",
       "      <td>0</td>\n",
       "    </tr>\n",
       "  </tbody>\n",
       "</table>\n",
       "</div>"
      ],
      "text/plain": [
       "                          status_id status_type status_published  \\\n",
       "0  246675545449582_1649696485147474       video   4/22/2018 6:00   \n",
       "1  246675545449582_1649426988507757       photo  4/21/2018 22:45   \n",
       "2  246675545449582_1648730588577397       video   4/21/2018 6:17   \n",
       "3  246675545449582_1648576705259452       photo   4/21/2018 2:29   \n",
       "4  246675545449582_1645700502213739       photo   4/18/2018 3:22   \n",
       "\n",
       "   num_reactions  num_comments  num_shares  num_likes  num_loves  num_wows  \\\n",
       "0            529           512         262        432         92         3   \n",
       "1            150             0           0        150          0         0   \n",
       "2            227           236          57        204         21         1   \n",
       "3            111             0           0        111          0         0   \n",
       "4            213             0           0        204          9         0   \n",
       "\n",
       "   num_hahas  num_sads  num_angrys  \n",
       "0          1         1           0  \n",
       "1          0         0           0  \n",
       "2          1         0           0  \n",
       "3          0         0           0  \n",
       "4          0         0           0  "
      ]
     },
     "execution_count": 9,
     "metadata": {},
     "output_type": "execute_result"
    }
   ],
   "source": [
    "df.head()"
   ]
  },
  {
   "cell_type": "markdown",
   "metadata": {
    "id": "ZUF35SDgc1hU"
   },
   "source": [
    "3 tane kategorik verimiz var. Bunları tek tek keşfedeceğiz."
   ]
  },
  {
   "cell_type": "markdown",
   "metadata": {
    "id": "67omFHQ6mPjx"
   },
   "source": [
    "## status_id değişkeninin analizi"
   ]
  },
  {
   "cell_type": "markdown",
   "metadata": {
    "id": "luK6TbdjmvPt"
   },
   "source": [
    " `status_id` sütununda farklı sosyal medya gönderilerinin ID'leri varsa, bu kod çalıştırıldığında o gönderilerin benzersiz ID'lerinin bir listesi elde edilir. Bu sayede, hangi gönderilerin kaç kez tekrarlandığını veya hangi ID'lerin veri setinde yer aldığını görebilirsiniz."
   ]
  },
  {
   "cell_type": "code",
   "execution_count": 10,
   "metadata": {
    "colab": {
     "base_uri": "https://localhost:8080/",
     "height": 141
    },
    "id": "FvHr2t7pctAd",
    "outputId": "6ec19c80-7fc4-4036-e56a-d04516fa41c9"
   },
   "outputs": [
    {
     "data": {
      "text/plain": [
       "array(['246675545449582_1649696485147474',\n",
       "       '246675545449582_1649426988507757',\n",
       "       '246675545449582_1648730588577397', ...,\n",
       "       '1050855161656896_1060126464063099',\n",
       "       '1050855161656896_1058663487542730',\n",
       "       '1050855161656896_1050858841656528'], dtype=object)"
      ]
     },
     "execution_count": 10,
     "metadata": {},
     "output_type": "execute_result"
    }
   ],
   "source": [
    "df['status_id'].unique()\n"
   ]
  },
  {
   "cell_type": "code",
   "execution_count": 11,
   "metadata": {
    "id": "3jBJQRfum2BK"
   },
   "outputs": [
    {
     "data": {
      "text/plain": [
       "6997"
      ]
     },
     "execution_count": 11,
     "metadata": {},
     "output_type": "execute_result"
    }
   ],
   "source": [
    "df['status_id'].nunique()"
   ]
  },
  {
   "cell_type": "markdown",
   "metadata": {
    "id": "KdvIqVp2nOjQ"
   },
   "source": [
    "`status_id` değişkeninde 6997 farklı etiket olduğunu görüyoruz. Veri setindeki toplam örnek sayısı 7050. Yani, her bir örnek için yaklaşık olarak benzersiz bir tanımlayıcı görevi görüyor. Bu nedenle, bu değişkeni kullanmayacağız. Dolayısıyla, bunu çıkartacağız.\n"
   ]
  },
  {
   "cell_type": "code",
   "execution_count": 12,
   "metadata": {
    "colab": {
     "base_uri": "https://localhost:8080/",
     "height": 141
    },
    "id": "9moftj7Fm6nI",
    "outputId": "1e1e4776-c4e1-4bcf-f973-787324054d61"
   },
   "outputs": [
    {
     "data": {
      "text/plain": [
       "6913"
      ]
     },
     "execution_count": 12,
     "metadata": {},
     "output_type": "execute_result"
    }
   ],
   "source": [
    "df['status_published'].nunique()"
   ]
  },
  {
   "cell_type": "markdown",
   "metadata": {
    "id": "3musUtkin0J7"
   },
   "source": [
    "Yine, `status_published` değişkeninde 6913 farklı etiket olduğunu görüyoruz. Veri setindeki toplam örnek sayısı 7050. Yani, bu da her bir örnek için yaklaşık olarak benzersiz bir tanımlayıcı. Bu nedenle, bu değişkeni de kullanmayacağız. Dolayısıyla, bunu da çıkartacağım."
   ]
  },
  {
   "cell_type": "code",
   "execution_count": 13,
   "metadata": {
    "colab": {
     "base_uri": "https://localhost:8080/",
     "height": 141
    },
    "id": "3KnEaDQtnq9s",
    "outputId": "3f17159a-07c0-4ad5-f5bf-41d45d878ebf"
   },
   "outputs": [
    {
     "data": {
      "text/plain": [
       "array(['video', 'photo', 'link', 'status'], dtype=object)"
      ]
     },
     "execution_count": 13,
     "metadata": {},
     "output_type": "execute_result"
    }
   ],
   "source": [
    "df['status_type'].unique()"
   ]
  },
  {
   "cell_type": "code",
   "execution_count": 14,
   "metadata": {
    "id": "0NhJ4nMtn-R2"
   },
   "outputs": [
    {
     "data": {
      "text/plain": [
       "4"
      ]
     },
     "execution_count": 14,
     "metadata": {},
     "output_type": "execute_result"
    }
   ],
   "source": [
    "df['status_type'].nunique()"
   ]
  },
  {
   "cell_type": "markdown",
   "metadata": {
    "id": "CzN5Q0XzexpX"
   },
   "source": [
    "`status_type`'da 4 kategori var.\n"
   ]
  },
  {
   "cell_type": "markdown",
   "metadata": {
    "id": "B5OmfSN0fHRb"
   },
   "source": [
    "`status_id` ve `status_published`'i veri setimizden kaldıralım."
   ]
  },
  {
   "cell_type": "code",
   "execution_count": 15,
   "metadata": {
    "colab": {
     "base_uri": "https://localhost:8080/",
     "height": 141
    },
    "id": "ZrbqcR0yoFmU",
    "outputId": "33ca1132-5a36-4606-8558-faf220105d68"
   },
   "outputs": [],
   "source": [
    "df.drop(['status_id', 'status_published'], axis=1, inplace=True)\n"
   ]
  },
  {
   "cell_type": "markdown",
   "metadata": {
    "id": "4EC6odfFfl47"
   },
   "source": [
    "![image.png](data:image/png;base64,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)"
   ]
  },
  {
   "cell_type": "markdown",
   "metadata": {
    "id": "x1LPzXa2fkxp"
   },
   "source": [
    "Mevcut veriyi gözden geçirelim:"
   ]
  },
  {
   "cell_type": "code",
   "execution_count": 16,
   "metadata": {},
   "outputs": [
    {
     "name": "stdout",
     "output_type": "stream",
     "text": [
      "<class 'pandas.core.frame.DataFrame'>\n",
      "RangeIndex: 7050 entries, 0 to 7049\n",
      "Data columns (total 10 columns):\n",
      " #   Column         Non-Null Count  Dtype \n",
      "---  ------         --------------  ----- \n",
      " 0   status_type    7050 non-null   object\n",
      " 1   num_reactions  7050 non-null   int64 \n",
      " 2   num_comments   7050 non-null   int64 \n",
      " 3   num_shares     7050 non-null   int64 \n",
      " 4   num_likes      7050 non-null   int64 \n",
      " 5   num_loves      7050 non-null   int64 \n",
      " 6   num_wows       7050 non-null   int64 \n",
      " 7   num_hahas      7050 non-null   int64 \n",
      " 8   num_sads       7050 non-null   int64 \n",
      " 9   num_angrys     7050 non-null   int64 \n",
      "dtypes: int64(9), object(1)\n",
      "memory usage: 550.9+ KB\n"
     ]
    }
   ],
   "source": [
    "df.info()"
   ]
  },
  {
   "cell_type": "markdown",
   "metadata": {},
   "source": [
    "Verilerin önizlemesini tekrar görelim:"
   ]
  },
  {
   "cell_type": "code",
   "execution_count": 17,
   "metadata": {},
   "outputs": [
    {
     "data": {
      "text/html": [
       "<div>\n",
       "<style scoped>\n",
       "    .dataframe tbody tr th:only-of-type {\n",
       "        vertical-align: middle;\n",
       "    }\n",
       "\n",
       "    .dataframe tbody tr th {\n",
       "        vertical-align: top;\n",
       "    }\n",
       "\n",
       "    .dataframe thead th {\n",
       "        text-align: right;\n",
       "    }\n",
       "</style>\n",
       "<table border=\"1\" class=\"dataframe\">\n",
       "  <thead>\n",
       "    <tr style=\"text-align: right;\">\n",
       "      <th></th>\n",
       "      <th>status_type</th>\n",
       "      <th>num_reactions</th>\n",
       "      <th>num_comments</th>\n",
       "      <th>num_shares</th>\n",
       "      <th>num_likes</th>\n",
       "      <th>num_loves</th>\n",
       "      <th>num_wows</th>\n",
       "      <th>num_hahas</th>\n",
       "      <th>num_sads</th>\n",
       "      <th>num_angrys</th>\n",
       "    </tr>\n",
       "  </thead>\n",
       "  <tbody>\n",
       "    <tr>\n",
       "      <th>0</th>\n",
       "      <td>video</td>\n",
       "      <td>529</td>\n",
       "      <td>512</td>\n",
       "      <td>262</td>\n",
       "      <td>432</td>\n",
       "      <td>92</td>\n",
       "      <td>3</td>\n",
       "      <td>1</td>\n",
       "      <td>1</td>\n",
       "      <td>0</td>\n",
       "    </tr>\n",
       "    <tr>\n",
       "      <th>1</th>\n",
       "      <td>photo</td>\n",
       "      <td>150</td>\n",
       "      <td>0</td>\n",
       "      <td>0</td>\n",
       "      <td>150</td>\n",
       "      <td>0</td>\n",
       "      <td>0</td>\n",
       "      <td>0</td>\n",
       "      <td>0</td>\n",
       "      <td>0</td>\n",
       "    </tr>\n",
       "    <tr>\n",
       "      <th>2</th>\n",
       "      <td>video</td>\n",
       "      <td>227</td>\n",
       "      <td>236</td>\n",
       "      <td>57</td>\n",
       "      <td>204</td>\n",
       "      <td>21</td>\n",
       "      <td>1</td>\n",
       "      <td>1</td>\n",
       "      <td>0</td>\n",
       "      <td>0</td>\n",
       "    </tr>\n",
       "    <tr>\n",
       "      <th>3</th>\n",
       "      <td>photo</td>\n",
       "      <td>111</td>\n",
       "      <td>0</td>\n",
       "      <td>0</td>\n",
       "      <td>111</td>\n",
       "      <td>0</td>\n",
       "      <td>0</td>\n",
       "      <td>0</td>\n",
       "      <td>0</td>\n",
       "      <td>0</td>\n",
       "    </tr>\n",
       "    <tr>\n",
       "      <th>4</th>\n",
       "      <td>photo</td>\n",
       "      <td>213</td>\n",
       "      <td>0</td>\n",
       "      <td>0</td>\n",
       "      <td>204</td>\n",
       "      <td>9</td>\n",
       "      <td>0</td>\n",
       "      <td>0</td>\n",
       "      <td>0</td>\n",
       "      <td>0</td>\n",
       "    </tr>\n",
       "  </tbody>\n",
       "</table>\n",
       "</div>"
      ],
      "text/plain": [
       "  status_type  num_reactions  num_comments  num_shares  num_likes  num_loves  \\\n",
       "0       video            529           512         262        432         92   \n",
       "1       photo            150             0           0        150          0   \n",
       "2       video            227           236          57        204         21   \n",
       "3       photo            111             0           0        111          0   \n",
       "4       photo            213             0           0        204          9   \n",
       "\n",
       "   num_wows  num_hahas  num_sads  num_angrys  \n",
       "0         3          1         1           0  \n",
       "1         0          0         0           0  \n",
       "2         1          1         0           0  \n",
       "3         0          0         0           0  \n",
       "4         0          0         0           0  "
      ]
     },
     "execution_count": 17,
     "metadata": {},
     "output_type": "execute_result"
    }
   ],
   "source": [
    "df.head()"
   ]
  },
  {
   "cell_type": "markdown",
   "metadata": {},
   "source": [
    "`status_type` değişkeninin tam sayı olmadığını görüyoruz. Bunu ileriki adımlarda tam sayıya çevireceğiz."
   ]
  },
  {
   "cell_type": "markdown",
   "metadata": {},
   "source": [
    "# 4. Özellik vektörünü ve hedef değişkeni tanımlama"
   ]
  },
  {
   "cell_type": "markdown",
   "metadata": {},
   "source": [
    "\n",
    "- **Özellik vektörü (feature vector)**: Modelin tahmin yapmak için kullandığı bağımsız değişkenler veya özellikler kümesidir.\n",
    "- **Hedef değişken (target variable)**: Modelin tahmin etmeye çalıştığı bağımlı değişkendir."
   ]
  },
  {
   "cell_type": "code",
   "execution_count": 18,
   "metadata": {},
   "outputs": [],
   "source": [
    "X = df\n",
    "\n",
    "y = df['status_type']\n"
   ]
  },
  {
   "cell_type": "markdown",
   "metadata": {},
   "source": [
    "# 5. Sayısal olmayan sınıftaki değerleri numerik hale getirme"
   ]
  },
  {
   "cell_type": "markdown",
   "metadata": {},
   "source": [
    "`LabelEncoder` sınıfı, Scikit-learn kütüphanesindeki `sklearn.preprocessing` modülünden bir araçtır ve genellikle etiketlerin sayısal formatlara dönüştürülmesi için kullanılır. Bu, makine öğrenimi modelleri için gerekli bir adımdır çünkü birçok model yalnızca sayısal verilerle çalışabilir.\n",
    "\n",
    "### **LabelEncoder Kullanım Amacı:**\n",
    "\n",
    "- **Kategorik Verilerin Sayısallaştırılması**: Etiketlerin veya kategorik verilerin sayısal formata dönüştürülmesi, makine öğrenimi algoritmalarının bu verilerle çalışmasını sağlar. Örneğin, \"kedi\", \"köpek\", \"kuş\" gibi kategoriler, `LabelEncoder` kullanılarak 0, 1, 2 gibi sayılara dönüştürülebilir.\n",
    "\n",
    "\n",
    "### **Fonksiyonlar:**\n",
    "\n",
    "1. **`fit`**: Etiketlerin benzersiz değerlerini öğrenir.\n",
    "   ```python\n",
    "   le.fit(labels)\n",
    "   ```\n",
    "\n",
    "2. **`transform`**: Öğrenilen etiketlere göre verileri sayısal formata dönüştürür.\n",
    "   ```python\n",
    "   encoded_labels = le.transform(labels)\n",
    "   ```\n",
    "\n",
    "3. **`fit_transform`**: Hem `fit` hem de `transform` işlemlerini tek seferde yapar.\n",
    "   ```python\n",
    "   encoded_labels = le.fit_transform(labels)\n",
    "   ```\n",
    "\n",
    "4. **`inverse_transform`**: Sayısal etiketleri orijinal kategorik değerlere geri dönüştürür.\n",
    "   ```python\n",
    "   original_labels = le.inverse_transform(encoded_labels)\n",
    "   ```\n"
   ]
  },
  {
   "cell_type": "code",
   "execution_count": 19,
   "metadata": {},
   "outputs": [],
   "source": [
    "from sklearn.preprocessing import LabelEncoder\n",
    "\n",
    "le = LabelEncoder()\n",
    "\n",
    "X['status_type'] = le.fit_transform(X['status_type'])\n",
    "\n",
    "#fit ile model uyumlaması yaptığımız için sadece transform yapmamız yeterli\n",
    "y = le.transform(y)"
   ]
  },
  {
   "cell_type": "markdown",
   "metadata": {},
   "source": [
    "**Uyarı** : `LabelEncoder` bir veri çerçevesinin tamamını değil, sadece bir sütunu almalıdır. "
   ]
  },
  {
   "cell_type": "markdown",
   "metadata": {},
   "source": [
    "`LabelEncoder` kullanırken sadece `transform` metodunu kullanmak, `fit_transform` metodunun gerçekleştirdiği işlemin yalnızca dönüşüm kısmını yapar. Aradaki farkları daha iyi anlamak için iki metodun ne yaptığını inceleyelim:\n",
    "\n",
    "### **`fit_transform` vs. `transform`**\n",
    "\n",
    "- **`fit_transform`**: Bu metod, hem `fit` hem de `transform` adımlarını aynı anda gerçekleştirir. Öncelikle `fit` işlemiyle veri üzerindeki kategorileri öğrenir ve her kategoriye bir sayısal etiket atar. Ardından, `transform` işlemiyle bu sayısal etiketleri veri kümesindeki kategorilere uygular. \n",
    "\n",
    "  ```python\n",
    "  le = LabelEncoder()\n",
    "  encoded_labels = le.fit_transform(labels)\n",
    "  ```\n",
    "  Bu kod, `labels` içindeki kategorileri öğrenir ve bu kategorilere sayısal değerler atar, sonuç olarak sayısal etiketleri döndürür.\n",
    "\n",
    "- **`transform`**: Bu metod yalnızca `transform` işlemini gerçekleştirir. Bu metod, verilerin önceden öğrenilmiş (fit edilmiş) etiketlerle dönüştürülmesi için kullanılır. Yani, `transform` metodunu kullanmadan önce `fit` metodunu çağırmanız gerekir. `fit` metodu, `LabelEncoder`'ın veri setindeki kategorileri öğrenmesini sağlar ve bu öğrenme bilgisi `transform` metoduna uygulanır.\n",
    "\n",
    "  ```python\n",
    "  le = LabelEncoder()\n",
    "  le.fit(labels)  # Kategorileri öğrenir\n",
    "  encoded_labels = le.transform(labels)  # Önceden öğrenilen etiketlerle dönüşüm yapar\n",
    "  ```"
   ]
  },
  {
   "cell_type": "markdown",
   "metadata": {},
   "source": [
    "X'in özetini görüntüleyelim:"
   ]
  },
  {
   "cell_type": "code",
   "execution_count": 20,
   "metadata": {},
   "outputs": [
    {
     "name": "stdout",
     "output_type": "stream",
     "text": [
      "<class 'pandas.core.frame.DataFrame'>\n",
      "RangeIndex: 7050 entries, 0 to 7049\n",
      "Data columns (total 10 columns):\n",
      " #   Column         Non-Null Count  Dtype\n",
      "---  ------         --------------  -----\n",
      " 0   status_type    7050 non-null   int64\n",
      " 1   num_reactions  7050 non-null   int64\n",
      " 2   num_comments   7050 non-null   int64\n",
      " 3   num_shares     7050 non-null   int64\n",
      " 4   num_likes      7050 non-null   int64\n",
      " 5   num_loves      7050 non-null   int64\n",
      " 6   num_wows       7050 non-null   int64\n",
      " 7   num_hahas      7050 non-null   int64\n",
      " 8   num_sads       7050 non-null   int64\n",
      " 9   num_angrys     7050 non-null   int64\n",
      "dtypes: int64(10)\n",
      "memory usage: 550.9 KB\n"
     ]
    }
   ],
   "source": [
    "X.info()"
   ]
  },
  {
   "cell_type": "markdown",
   "metadata": {},
   "source": [
    "Veriyi önizleyelim:"
   ]
  },
  {
   "cell_type": "code",
   "execution_count": 21,
   "metadata": {},
   "outputs": [
    {
     "data": {
      "text/html": [
       "<div>\n",
       "<style scoped>\n",
       "    .dataframe tbody tr th:only-of-type {\n",
       "        vertical-align: middle;\n",
       "    }\n",
       "\n",
       "    .dataframe tbody tr th {\n",
       "        vertical-align: top;\n",
       "    }\n",
       "\n",
       "    .dataframe thead th {\n",
       "        text-align: right;\n",
       "    }\n",
       "</style>\n",
       "<table border=\"1\" class=\"dataframe\">\n",
       "  <thead>\n",
       "    <tr style=\"text-align: right;\">\n",
       "      <th></th>\n",
       "      <th>status_type</th>\n",
       "      <th>num_reactions</th>\n",
       "      <th>num_comments</th>\n",
       "      <th>num_shares</th>\n",
       "      <th>num_likes</th>\n",
       "      <th>num_loves</th>\n",
       "      <th>num_wows</th>\n",
       "      <th>num_hahas</th>\n",
       "      <th>num_sads</th>\n",
       "      <th>num_angrys</th>\n",
       "    </tr>\n",
       "  </thead>\n",
       "  <tbody>\n",
       "    <tr>\n",
       "      <th>0</th>\n",
       "      <td>3</td>\n",
       "      <td>529</td>\n",
       "      <td>512</td>\n",
       "      <td>262</td>\n",
       "      <td>432</td>\n",
       "      <td>92</td>\n",
       "      <td>3</td>\n",
       "      <td>1</td>\n",
       "      <td>1</td>\n",
       "      <td>0</td>\n",
       "    </tr>\n",
       "    <tr>\n",
       "      <th>1</th>\n",
       "      <td>1</td>\n",
       "      <td>150</td>\n",
       "      <td>0</td>\n",
       "      <td>0</td>\n",
       "      <td>150</td>\n",
       "      <td>0</td>\n",
       "      <td>0</td>\n",
       "      <td>0</td>\n",
       "      <td>0</td>\n",
       "      <td>0</td>\n",
       "    </tr>\n",
       "    <tr>\n",
       "      <th>2</th>\n",
       "      <td>3</td>\n",
       "      <td>227</td>\n",
       "      <td>236</td>\n",
       "      <td>57</td>\n",
       "      <td>204</td>\n",
       "      <td>21</td>\n",
       "      <td>1</td>\n",
       "      <td>1</td>\n",
       "      <td>0</td>\n",
       "      <td>0</td>\n",
       "    </tr>\n",
       "    <tr>\n",
       "      <th>3</th>\n",
       "      <td>1</td>\n",
       "      <td>111</td>\n",
       "      <td>0</td>\n",
       "      <td>0</td>\n",
       "      <td>111</td>\n",
       "      <td>0</td>\n",
       "      <td>0</td>\n",
       "      <td>0</td>\n",
       "      <td>0</td>\n",
       "      <td>0</td>\n",
       "    </tr>\n",
       "    <tr>\n",
       "      <th>4</th>\n",
       "      <td>1</td>\n",
       "      <td>213</td>\n",
       "      <td>0</td>\n",
       "      <td>0</td>\n",
       "      <td>204</td>\n",
       "      <td>9</td>\n",
       "      <td>0</td>\n",
       "      <td>0</td>\n",
       "      <td>0</td>\n",
       "      <td>0</td>\n",
       "    </tr>\n",
       "  </tbody>\n",
       "</table>\n",
       "</div>"
      ],
      "text/plain": [
       "   status_type  num_reactions  num_comments  num_shares  num_likes  num_loves  \\\n",
       "0            3            529           512         262        432         92   \n",
       "1            1            150             0           0        150          0   \n",
       "2            3            227           236          57        204         21   \n",
       "3            1            111             0           0        111          0   \n",
       "4            1            213             0           0        204          9   \n",
       "\n",
       "   num_wows  num_hahas  num_sads  num_angrys  \n",
       "0         3          1         1           0  \n",
       "1         0          0         0           0  \n",
       "2         1          1         0           0  \n",
       "3         0          0         0           0  \n",
       "4         0          0         0           0  "
      ]
     },
     "execution_count": 21,
     "metadata": {},
     "output_type": "execute_result"
    }
   ],
   "source": [
    "X.head()"
   ]
  },
  {
   "cell_type": "markdown",
   "metadata": {},
   "source": [
    "# 6. Öznitelik Ölçekleme (Feature Scaling)"
   ]
  },
  {
   "cell_type": "markdown",
   "metadata": {},
   "source": [
    "**Feature Scaling** (Özellik Ölçekleme), makine öğrenmesi ve veri analizi sürecinde veri setindeki özelliklerin (veya özniteliklerin) ölçeklerinin düzenlenmesini ifade eder. Bu işlem, verilerin aynı ölçek aralığında olmasını sağlar ve bazı algoritmaların daha iyi performans göstermesine yardımcı olabilir. Özellikle, farklı ölçeklerdeki özelliklerin aynı model üzerinde kullanılmasında ortaya çıkabilecek sorunları önler.\n",
    "\n",
    "### **Özellik Ölçekleme Yöntemleri:**\n",
    "\n",
    "1. **Min-Max Ölçekleme (Normalization)**:\n",
    "   - **Amaç**: Verileri belirli bir aralık (genellikle 0 ile 1) içine sıkıştırır.\n",
    "   - **Formül**: \n",
    "     \\[\n",
    "     x_{\\text{scaled}} = \\frac{x - \\text{min}}{\\text{max} - \\text{min}}\n",
    "     \\]\n",
    "   - **Kullanım**: Özellikle özelliklerin belirli bir aralık içinde olması gereken durumlarda kullanılır.\n",
    "   - **Örnek**: Eğer bir özelliğin minimum değeri 10 ve maksimum değeri 100 ise, bu özelliği 0 ile 1 arasına dönüştürür.\n",
    "\n",
    "2. **Z-Score Standartlaştırma (Standardization)**:\n",
    "   - **Amaç**: Özelliklerin ortalama değerini 0 ve standart sapmasını 1 yapar. Bu, verileri z-skorlarına dönüştürür.\n",
    "   - **Formül**:\n",
    "     \\[\n",
    "     x_{\\text{scaled}} = \\frac{x - \\mu}{\\sigma}\n",
    "     \\]\n",
    "     Burada \\(\\mu\\) ortalama ve \\(\\sigma\\) standart sapmadır.\n",
    "   - **Kullanım**: Özellikle normal dağılım varsayımına dayanan algoritmalarda kullanılır. Özelliklerin farklı varyanslara sahip olduğu durumlarda faydalıdır.\n",
    "\n",
    "3. **Robust Scaling**:\n",
    "   - **Amaç**: Özelliklerin medyanını 0 yapar ve interquartile range (IQR) kullanarak ölçekler.\n",
    "   - **Formül**:\n",
    "     \\[\n",
    "     x_{\\text{scaled}} = \\frac{x - \\text{medyan}}{\\text{IQR}}\n",
    "     \\]\n",
    "   - **Kullanım**: Aykırı değerlere karşı dayanıklıdır ve medyan ile IQR kullanarak ölçekleme yapar.\n",
    "\n",
    "### **Özellik Ölçeklemenin Önemi:**\n",
    "\n",
    "1. **Model Performansı**: Bazı algoritmalar, özellikle mesafe tabanlı algoritmalar (örneğin, K-Nearest Neighbors) ve optimizasyon tabanlı algoritmalar (örneğin, Gradient Descent), özelliklerin aynı ölçek aralığında olmasını gerektirir. Ölçekleme, bu algoritmaların performansını artırabilir.\n",
    "\n",
    "2. **Ağırlıkların Etkisi**: Özelliklerin farklı ölçeklerde olması, bazı özelliklerin model üzerinde diğerlerinden daha fazla etki etmesine neden olabilir. Özellik ölçekleme, bu sorunu önler.\n",
    "\n",
    "3. **Model Konverjansı**: Özelliklerin aynı ölçeklerde olması, modelin daha hızlı ve stabil bir şekilde eğitilmesine yardımcı olabilir.\n",
    "\n",
    "### **Türkçede Kullanımı:**\n",
    "\n",
    "- **Özellik Ölçekleme**: Makine öğrenmesi ve veri analizi süreçlerinde, verilerin ölçeklerini ayarlamak için kullanılan terimdir.\n",
    "- **Örnek**: \"Veri setimizdeki özellikleri ölçekledik\" veya \"Modelin doğruluğunu artırmak için özellik ölçekleme uyguladık.\"\n",
    "\n",
    "Bu yöntemler, veriler üzerinde çeşitli dönüşümler yaparak makine öğrenmesi modelinin performansını ve doğruluğunu artırabilir. Özellikle, farklı ölçeklerdeki verilerle çalışan modellerde, bu işlemler oldukça faydalıdır."
   ]
  },
  {
   "cell_type": "code",
   "execution_count": 22,
   "metadata": {},
   "outputs": [],
   "source": [
    "cols = X.columns\n"
   ]
  },
  {
   "cell_type": "code",
   "execution_count": 23,
   "metadata": {},
   "outputs": [],
   "source": [
    "from sklearn.preprocessing import MinMaxScaler\n",
    "\n",
    "mms = MinMaxScaler()\n",
    "\n",
    "X = mms.fit_transform(X)"
   ]
  },
  {
   "cell_type": "code",
   "execution_count": 24,
   "metadata": {},
   "outputs": [],
   "source": [
    "X = pd.DataFrame(X, columns = [cols])"
   ]
  },
  {
   "cell_type": "markdown",
   "metadata": {},
   "source": [
    "`pandas` kütüphanesinin `DataFrame` sınıfını (class) çağırdık."
   ]
  },
  {
   "cell_type": "code",
   "execution_count": 25,
   "metadata": {},
   "outputs": [
    {
     "data": {
      "text/html": [
       "<div>\n",
       "<style scoped>\n",
       "    .dataframe tbody tr th:only-of-type {\n",
       "        vertical-align: middle;\n",
       "    }\n",
       "\n",
       "    .dataframe tbody tr th {\n",
       "        vertical-align: top;\n",
       "    }\n",
       "\n",
       "    .dataframe thead tr th {\n",
       "        text-align: left;\n",
       "    }\n",
       "</style>\n",
       "<table border=\"1\" class=\"dataframe\">\n",
       "  <thead>\n",
       "    <tr>\n",
       "      <th></th>\n",
       "      <th>status_type</th>\n",
       "      <th>num_reactions</th>\n",
       "      <th>num_comments</th>\n",
       "      <th>num_shares</th>\n",
       "      <th>num_likes</th>\n",
       "      <th>num_loves</th>\n",
       "      <th>num_wows</th>\n",
       "      <th>num_hahas</th>\n",
       "      <th>num_sads</th>\n",
       "      <th>num_angrys</th>\n",
       "    </tr>\n",
       "  </thead>\n",
       "  <tbody>\n",
       "    <tr>\n",
       "      <th>0</th>\n",
       "      <td>1.000000</td>\n",
       "      <td>0.112314</td>\n",
       "      <td>0.024393</td>\n",
       "      <td>0.076519</td>\n",
       "      <td>0.091720</td>\n",
       "      <td>0.140030</td>\n",
       "      <td>0.010791</td>\n",
       "      <td>0.006369</td>\n",
       "      <td>0.019608</td>\n",
       "      <td>0.0</td>\n",
       "    </tr>\n",
       "    <tr>\n",
       "      <th>1</th>\n",
       "      <td>0.333333</td>\n",
       "      <td>0.031847</td>\n",
       "      <td>0.000000</td>\n",
       "      <td>0.000000</td>\n",
       "      <td>0.031847</td>\n",
       "      <td>0.000000</td>\n",
       "      <td>0.000000</td>\n",
       "      <td>0.000000</td>\n",
       "      <td>0.000000</td>\n",
       "      <td>0.0</td>\n",
       "    </tr>\n",
       "    <tr>\n",
       "      <th>2</th>\n",
       "      <td>1.000000</td>\n",
       "      <td>0.048195</td>\n",
       "      <td>0.011243</td>\n",
       "      <td>0.016647</td>\n",
       "      <td>0.043312</td>\n",
       "      <td>0.031963</td>\n",
       "      <td>0.003597</td>\n",
       "      <td>0.006369</td>\n",
       "      <td>0.000000</td>\n",
       "      <td>0.0</td>\n",
       "    </tr>\n",
       "    <tr>\n",
       "      <th>3</th>\n",
       "      <td>0.333333</td>\n",
       "      <td>0.023567</td>\n",
       "      <td>0.000000</td>\n",
       "      <td>0.000000</td>\n",
       "      <td>0.023567</td>\n",
       "      <td>0.000000</td>\n",
       "      <td>0.000000</td>\n",
       "      <td>0.000000</td>\n",
       "      <td>0.000000</td>\n",
       "      <td>0.0</td>\n",
       "    </tr>\n",
       "    <tr>\n",
       "      <th>4</th>\n",
       "      <td>0.333333</td>\n",
       "      <td>0.045223</td>\n",
       "      <td>0.000000</td>\n",
       "      <td>0.000000</td>\n",
       "      <td>0.043312</td>\n",
       "      <td>0.013699</td>\n",
       "      <td>0.000000</td>\n",
       "      <td>0.000000</td>\n",
       "      <td>0.000000</td>\n",
       "      <td>0.0</td>\n",
       "    </tr>\n",
       "  </tbody>\n",
       "</table>\n",
       "</div>"
      ],
      "text/plain": [
       "  status_type num_reactions num_comments num_shares num_likes num_loves  \\\n",
       "0    1.000000      0.112314     0.024393   0.076519  0.091720  0.140030   \n",
       "1    0.333333      0.031847     0.000000   0.000000  0.031847  0.000000   \n",
       "2    1.000000      0.048195     0.011243   0.016647  0.043312  0.031963   \n",
       "3    0.333333      0.023567     0.000000   0.000000  0.023567  0.000000   \n",
       "4    0.333333      0.045223     0.000000   0.000000  0.043312  0.013699   \n",
       "\n",
       "   num_wows num_hahas  num_sads num_angrys  \n",
       "0  0.010791  0.006369  0.019608        0.0  \n",
       "1  0.000000  0.000000  0.000000        0.0  \n",
       "2  0.003597  0.006369  0.000000        0.0  \n",
       "3  0.000000  0.000000  0.000000        0.0  \n",
       "4  0.000000  0.000000  0.000000        0.0  "
      ]
     },
     "execution_count": 25,
     "metadata": {},
     "output_type": "execute_result"
    }
   ],
   "source": [
    "X.head()"
   ]
  },
  {
   "cell_type": "markdown",
   "metadata": {},
   "source": [
    "Görüldüğü gibi veri setimizdeki değerler 0 ile 1 arasında ölçeklenmiş oldu."
   ]
  },
  {
   "cell_type": "markdown",
   "metadata": {},
   "source": [
    "# MODEL OLUŞTURMA"
   ]
  },
  {
   "cell_type": "markdown",
   "metadata": {},
   "source": [
    "# 7. K-Means Kümeleme ile İki Küme Oluşturma"
   ]
  },
  {
   "cell_type": "code",
   "execution_count": 26,
   "metadata": {},
   "outputs": [
    {
     "data": {
      "text/html": [
       "<style>#sk-container-id-1 {\n",
       "  /* Definition of color scheme common for light and dark mode */\n",
       "  --sklearn-color-text: black;\n",
       "  --sklearn-color-line: gray;\n",
       "  /* Definition of color scheme for unfitted estimators */\n",
       "  --sklearn-color-unfitted-level-0: #fff5e6;\n",
       "  --sklearn-color-unfitted-level-1: #f6e4d2;\n",
       "  --sklearn-color-unfitted-level-2: #ffe0b3;\n",
       "  --sklearn-color-unfitted-level-3: chocolate;\n",
       "  /* Definition of color scheme for fitted estimators */\n",
       "  --sklearn-color-fitted-level-0: #f0f8ff;\n",
       "  --sklearn-color-fitted-level-1: #d4ebff;\n",
       "  --sklearn-color-fitted-level-2: #b3dbfd;\n",
       "  --sklearn-color-fitted-level-3: cornflowerblue;\n",
       "\n",
       "  /* Specific color for light theme */\n",
       "  --sklearn-color-text-on-default-background: var(--sg-text-color, var(--theme-code-foreground, var(--jp-content-font-color1, black)));\n",
       "  --sklearn-color-background: var(--sg-background-color, var(--theme-background, var(--jp-layout-color0, white)));\n",
       "  --sklearn-color-border-box: var(--sg-text-color, var(--theme-code-foreground, var(--jp-content-font-color1, black)));\n",
       "  --sklearn-color-icon: #696969;\n",
       "\n",
       "  @media (prefers-color-scheme: dark) {\n",
       "    /* Redefinition of color scheme for dark theme */\n",
       "    --sklearn-color-text-on-default-background: var(--sg-text-color, var(--theme-code-foreground, var(--jp-content-font-color1, white)));\n",
       "    --sklearn-color-background: var(--sg-background-color, var(--theme-background, var(--jp-layout-color0, #111)));\n",
       "    --sklearn-color-border-box: var(--sg-text-color, var(--theme-code-foreground, var(--jp-content-font-color1, white)));\n",
       "    --sklearn-color-icon: #878787;\n",
       "  }\n",
       "}\n",
       "\n",
       "#sk-container-id-1 {\n",
       "  color: var(--sklearn-color-text);\n",
       "}\n",
       "\n",
       "#sk-container-id-1 pre {\n",
       "  padding: 0;\n",
       "}\n",
       "\n",
       "#sk-container-id-1 input.sk-hidden--visually {\n",
       "  border: 0;\n",
       "  clip: rect(1px 1px 1px 1px);\n",
       "  clip: rect(1px, 1px, 1px, 1px);\n",
       "  height: 1px;\n",
       "  margin: -1px;\n",
       "  overflow: hidden;\n",
       "  padding: 0;\n",
       "  position: absolute;\n",
       "  width: 1px;\n",
       "}\n",
       "\n",
       "#sk-container-id-1 div.sk-dashed-wrapped {\n",
       "  border: 1px dashed var(--sklearn-color-line);\n",
       "  margin: 0 0.4em 0.5em 0.4em;\n",
       "  box-sizing: border-box;\n",
       "  padding-bottom: 0.4em;\n",
       "  background-color: var(--sklearn-color-background);\n",
       "}\n",
       "\n",
       "#sk-container-id-1 div.sk-container {\n",
       "  /* jupyter's `normalize.less` sets `[hidden] { display: none; }`\n",
       "     but bootstrap.min.css set `[hidden] { display: none !important; }`\n",
       "     so we also need the `!important` here to be able to override the\n",
       "     default hidden behavior on the sphinx rendered scikit-learn.org.\n",
       "     See: https://github.com/scikit-learn/scikit-learn/issues/21755 */\n",
       "  display: inline-block !important;\n",
       "  position: relative;\n",
       "}\n",
       "\n",
       "#sk-container-id-1 div.sk-text-repr-fallback {\n",
       "  display: none;\n",
       "}\n",
       "\n",
       "div.sk-parallel-item,\n",
       "div.sk-serial,\n",
       "div.sk-item {\n",
       "  /* draw centered vertical line to link estimators */\n",
       "  background-image: linear-gradient(var(--sklearn-color-text-on-default-background), var(--sklearn-color-text-on-default-background));\n",
       "  background-size: 2px 100%;\n",
       "  background-repeat: no-repeat;\n",
       "  background-position: center center;\n",
       "}\n",
       "\n",
       "/* Parallel-specific style estimator block */\n",
       "\n",
       "#sk-container-id-1 div.sk-parallel-item::after {\n",
       "  content: \"\";\n",
       "  width: 100%;\n",
       "  border-bottom: 2px solid var(--sklearn-color-text-on-default-background);\n",
       "  flex-grow: 1;\n",
       "}\n",
       "\n",
       "#sk-container-id-1 div.sk-parallel {\n",
       "  display: flex;\n",
       "  align-items: stretch;\n",
       "  justify-content: center;\n",
       "  background-color: var(--sklearn-color-background);\n",
       "  position: relative;\n",
       "}\n",
       "\n",
       "#sk-container-id-1 div.sk-parallel-item {\n",
       "  display: flex;\n",
       "  flex-direction: column;\n",
       "}\n",
       "\n",
       "#sk-container-id-1 div.sk-parallel-item:first-child::after {\n",
       "  align-self: flex-end;\n",
       "  width: 50%;\n",
       "}\n",
       "\n",
       "#sk-container-id-1 div.sk-parallel-item:last-child::after {\n",
       "  align-self: flex-start;\n",
       "  width: 50%;\n",
       "}\n",
       "\n",
       "#sk-container-id-1 div.sk-parallel-item:only-child::after {\n",
       "  width: 0;\n",
       "}\n",
       "\n",
       "/* Serial-specific style estimator block */\n",
       "\n",
       "#sk-container-id-1 div.sk-serial {\n",
       "  display: flex;\n",
       "  flex-direction: column;\n",
       "  align-items: center;\n",
       "  background-color: var(--sklearn-color-background);\n",
       "  padding-right: 1em;\n",
       "  padding-left: 1em;\n",
       "}\n",
       "\n",
       "\n",
       "/* Toggleable style: style used for estimator/Pipeline/ColumnTransformer box that is\n",
       "clickable and can be expanded/collapsed.\n",
       "- Pipeline and ColumnTransformer use this feature and define the default style\n",
       "- Estimators will overwrite some part of the style using the `sk-estimator` class\n",
       "*/\n",
       "\n",
       "/* Pipeline and ColumnTransformer style (default) */\n",
       "\n",
       "#sk-container-id-1 div.sk-toggleable {\n",
       "  /* Default theme specific background. It is overwritten whether we have a\n",
       "  specific estimator or a Pipeline/ColumnTransformer */\n",
       "  background-color: var(--sklearn-color-background);\n",
       "}\n",
       "\n",
       "/* Toggleable label */\n",
       "#sk-container-id-1 label.sk-toggleable__label {\n",
       "  cursor: pointer;\n",
       "  display: block;\n",
       "  width: 100%;\n",
       "  margin-bottom: 0;\n",
       "  padding: 0.5em;\n",
       "  box-sizing: border-box;\n",
       "  text-align: center;\n",
       "}\n",
       "\n",
       "#sk-container-id-1 label.sk-toggleable__label-arrow:before {\n",
       "  /* Arrow on the left of the label */\n",
       "  content: \"▸\";\n",
       "  float: left;\n",
       "  margin-right: 0.25em;\n",
       "  color: var(--sklearn-color-icon);\n",
       "}\n",
       "\n",
       "#sk-container-id-1 label.sk-toggleable__label-arrow:hover:before {\n",
       "  color: var(--sklearn-color-text);\n",
       "}\n",
       "\n",
       "/* Toggleable content - dropdown */\n",
       "\n",
       "#sk-container-id-1 div.sk-toggleable__content {\n",
       "  max-height: 0;\n",
       "  max-width: 0;\n",
       "  overflow: hidden;\n",
       "  text-align: left;\n",
       "  /* unfitted */\n",
       "  background-color: var(--sklearn-color-unfitted-level-0);\n",
       "}\n",
       "\n",
       "#sk-container-id-1 div.sk-toggleable__content.fitted {\n",
       "  /* fitted */\n",
       "  background-color: var(--sklearn-color-fitted-level-0);\n",
       "}\n",
       "\n",
       "#sk-container-id-1 div.sk-toggleable__content pre {\n",
       "  margin: 0.2em;\n",
       "  border-radius: 0.25em;\n",
       "  color: var(--sklearn-color-text);\n",
       "  /* unfitted */\n",
       "  background-color: var(--sklearn-color-unfitted-level-0);\n",
       "}\n",
       "\n",
       "#sk-container-id-1 div.sk-toggleable__content.fitted pre {\n",
       "  /* unfitted */\n",
       "  background-color: var(--sklearn-color-fitted-level-0);\n",
       "}\n",
       "\n",
       "#sk-container-id-1 input.sk-toggleable__control:checked~div.sk-toggleable__content {\n",
       "  /* Expand drop-down */\n",
       "  max-height: 200px;\n",
       "  max-width: 100%;\n",
       "  overflow: auto;\n",
       "}\n",
       "\n",
       "#sk-container-id-1 input.sk-toggleable__control:checked~label.sk-toggleable__label-arrow:before {\n",
       "  content: \"▾\";\n",
       "}\n",
       "\n",
       "/* Pipeline/ColumnTransformer-specific style */\n",
       "\n",
       "#sk-container-id-1 div.sk-label input.sk-toggleable__control:checked~label.sk-toggleable__label {\n",
       "  color: var(--sklearn-color-text);\n",
       "  background-color: var(--sklearn-color-unfitted-level-2);\n",
       "}\n",
       "\n",
       "#sk-container-id-1 div.sk-label.fitted input.sk-toggleable__control:checked~label.sk-toggleable__label {\n",
       "  background-color: var(--sklearn-color-fitted-level-2);\n",
       "}\n",
       "\n",
       "/* Estimator-specific style */\n",
       "\n",
       "/* Colorize estimator box */\n",
       "#sk-container-id-1 div.sk-estimator input.sk-toggleable__control:checked~label.sk-toggleable__label {\n",
       "  /* unfitted */\n",
       "  background-color: var(--sklearn-color-unfitted-level-2);\n",
       "}\n",
       "\n",
       "#sk-container-id-1 div.sk-estimator.fitted input.sk-toggleable__control:checked~label.sk-toggleable__label {\n",
       "  /* fitted */\n",
       "  background-color: var(--sklearn-color-fitted-level-2);\n",
       "}\n",
       "\n",
       "#sk-container-id-1 div.sk-label label.sk-toggleable__label,\n",
       "#sk-container-id-1 div.sk-label label {\n",
       "  /* The background is the default theme color */\n",
       "  color: var(--sklearn-color-text-on-default-background);\n",
       "}\n",
       "\n",
       "/* On hover, darken the color of the background */\n",
       "#sk-container-id-1 div.sk-label:hover label.sk-toggleable__label {\n",
       "  color: var(--sklearn-color-text);\n",
       "  background-color: var(--sklearn-color-unfitted-level-2);\n",
       "}\n",
       "\n",
       "/* Label box, darken color on hover, fitted */\n",
       "#sk-container-id-1 div.sk-label.fitted:hover label.sk-toggleable__label.fitted {\n",
       "  color: var(--sklearn-color-text);\n",
       "  background-color: var(--sklearn-color-fitted-level-2);\n",
       "}\n",
       "\n",
       "/* Estimator label */\n",
       "\n",
       "#sk-container-id-1 div.sk-label label {\n",
       "  font-family: monospace;\n",
       "  font-weight: bold;\n",
       "  display: inline-block;\n",
       "  line-height: 1.2em;\n",
       "}\n",
       "\n",
       "#sk-container-id-1 div.sk-label-container {\n",
       "  text-align: center;\n",
       "}\n",
       "\n",
       "/* Estimator-specific */\n",
       "#sk-container-id-1 div.sk-estimator {\n",
       "  font-family: monospace;\n",
       "  border: 1px dotted var(--sklearn-color-border-box);\n",
       "  border-radius: 0.25em;\n",
       "  box-sizing: border-box;\n",
       "  margin-bottom: 0.5em;\n",
       "  /* unfitted */\n",
       "  background-color: var(--sklearn-color-unfitted-level-0);\n",
       "}\n",
       "\n",
       "#sk-container-id-1 div.sk-estimator.fitted {\n",
       "  /* fitted */\n",
       "  background-color: var(--sklearn-color-fitted-level-0);\n",
       "}\n",
       "\n",
       "/* on hover */\n",
       "#sk-container-id-1 div.sk-estimator:hover {\n",
       "  /* unfitted */\n",
       "  background-color: var(--sklearn-color-unfitted-level-2);\n",
       "}\n",
       "\n",
       "#sk-container-id-1 div.sk-estimator.fitted:hover {\n",
       "  /* fitted */\n",
       "  background-color: var(--sklearn-color-fitted-level-2);\n",
       "}\n",
       "\n",
       "/* Specification for estimator info (e.g. \"i\" and \"?\") */\n",
       "\n",
       "/* Common style for \"i\" and \"?\" */\n",
       "\n",
       ".sk-estimator-doc-link,\n",
       "a:link.sk-estimator-doc-link,\n",
       "a:visited.sk-estimator-doc-link {\n",
       "  float: right;\n",
       "  font-size: smaller;\n",
       "  line-height: 1em;\n",
       "  font-family: monospace;\n",
       "  background-color: var(--sklearn-color-background);\n",
       "  border-radius: 1em;\n",
       "  height: 1em;\n",
       "  width: 1em;\n",
       "  text-decoration: none !important;\n",
       "  margin-left: 1ex;\n",
       "  /* unfitted */\n",
       "  border: var(--sklearn-color-unfitted-level-1) 1pt solid;\n",
       "  color: var(--sklearn-color-unfitted-level-1);\n",
       "}\n",
       "\n",
       ".sk-estimator-doc-link.fitted,\n",
       "a:link.sk-estimator-doc-link.fitted,\n",
       "a:visited.sk-estimator-doc-link.fitted {\n",
       "  /* fitted */\n",
       "  border: var(--sklearn-color-fitted-level-1) 1pt solid;\n",
       "  color: var(--sklearn-color-fitted-level-1);\n",
       "}\n",
       "\n",
       "/* On hover */\n",
       "div.sk-estimator:hover .sk-estimator-doc-link:hover,\n",
       ".sk-estimator-doc-link:hover,\n",
       "div.sk-label-container:hover .sk-estimator-doc-link:hover,\n",
       ".sk-estimator-doc-link:hover {\n",
       "  /* unfitted */\n",
       "  background-color: var(--sklearn-color-unfitted-level-3);\n",
       "  color: var(--sklearn-color-background);\n",
       "  text-decoration: none;\n",
       "}\n",
       "\n",
       "div.sk-estimator.fitted:hover .sk-estimator-doc-link.fitted:hover,\n",
       ".sk-estimator-doc-link.fitted:hover,\n",
       "div.sk-label-container:hover .sk-estimator-doc-link.fitted:hover,\n",
       ".sk-estimator-doc-link.fitted:hover {\n",
       "  /* fitted */\n",
       "  background-color: var(--sklearn-color-fitted-level-3);\n",
       "  color: var(--sklearn-color-background);\n",
       "  text-decoration: none;\n",
       "}\n",
       "\n",
       "/* Span, style for the box shown on hovering the info icon */\n",
       ".sk-estimator-doc-link span {\n",
       "  display: none;\n",
       "  z-index: 9999;\n",
       "  position: relative;\n",
       "  font-weight: normal;\n",
       "  right: .2ex;\n",
       "  padding: .5ex;\n",
       "  margin: .5ex;\n",
       "  width: min-content;\n",
       "  min-width: 20ex;\n",
       "  max-width: 50ex;\n",
       "  color: var(--sklearn-color-text);\n",
       "  box-shadow: 2pt 2pt 4pt #999;\n",
       "  /* unfitted */\n",
       "  background: var(--sklearn-color-unfitted-level-0);\n",
       "  border: .5pt solid var(--sklearn-color-unfitted-level-3);\n",
       "}\n",
       "\n",
       ".sk-estimator-doc-link.fitted span {\n",
       "  /* fitted */\n",
       "  background: var(--sklearn-color-fitted-level-0);\n",
       "  border: var(--sklearn-color-fitted-level-3);\n",
       "}\n",
       "\n",
       ".sk-estimator-doc-link:hover span {\n",
       "  display: block;\n",
       "}\n",
       "\n",
       "/* \"?\"-specific style due to the `<a>` HTML tag */\n",
       "\n",
       "#sk-container-id-1 a.estimator_doc_link {\n",
       "  float: right;\n",
       "  font-size: 1rem;\n",
       "  line-height: 1em;\n",
       "  font-family: monospace;\n",
       "  background-color: var(--sklearn-color-background);\n",
       "  border-radius: 1rem;\n",
       "  height: 1rem;\n",
       "  width: 1rem;\n",
       "  text-decoration: none;\n",
       "  /* unfitted */\n",
       "  color: var(--sklearn-color-unfitted-level-1);\n",
       "  border: var(--sklearn-color-unfitted-level-1) 1pt solid;\n",
       "}\n",
       "\n",
       "#sk-container-id-1 a.estimator_doc_link.fitted {\n",
       "  /* fitted */\n",
       "  border: var(--sklearn-color-fitted-level-1) 1pt solid;\n",
       "  color: var(--sklearn-color-fitted-level-1);\n",
       "}\n",
       "\n",
       "/* On hover */\n",
       "#sk-container-id-1 a.estimator_doc_link:hover {\n",
       "  /* unfitted */\n",
       "  background-color: var(--sklearn-color-unfitted-level-3);\n",
       "  color: var(--sklearn-color-background);\n",
       "  text-decoration: none;\n",
       "}\n",
       "\n",
       "#sk-container-id-1 a.estimator_doc_link.fitted:hover {\n",
       "  /* fitted */\n",
       "  background-color: var(--sklearn-color-fitted-level-3);\n",
       "}\n",
       "</style><div id=\"sk-container-id-1\" class=\"sk-top-container\"><div class=\"sk-text-repr-fallback\"><pre>KMeans(n_clusters=2, random_state=0)</pre><b>In a Jupyter environment, please rerun this cell to show the HTML representation or trust the notebook. <br />On GitHub, the HTML representation is unable to render, please try loading this page with nbviewer.org.</b></div><div class=\"sk-container\" hidden><div class=\"sk-item\"><div class=\"sk-estimator fitted sk-toggleable\"><input class=\"sk-toggleable__control sk-hidden--visually\" id=\"sk-estimator-id-1\" type=\"checkbox\" checked><label for=\"sk-estimator-id-1\" class=\"sk-toggleable__label fitted sk-toggleable__label-arrow fitted\">&nbsp;&nbsp;KMeans<a class=\"sk-estimator-doc-link fitted\" rel=\"noreferrer\" target=\"_blank\" href=\"https://scikit-learn.org/1.4/modules/generated/sklearn.cluster.KMeans.html\">?<span>Documentation for KMeans</span></a><span class=\"sk-estimator-doc-link fitted\">i<span>Fitted</span></span></label><div class=\"sk-toggleable__content fitted\"><pre>KMeans(n_clusters=2, random_state=0)</pre></div> </div></div></div></div>"
      ],
      "text/plain": [
       "KMeans(n_clusters=2, random_state=0)"
      ]
     },
     "execution_count": 26,
     "metadata": {},
     "output_type": "execute_result"
    }
   ],
   "source": [
    "from sklearn.cluster import KMeans\n",
    "\n",
    "kmeans = KMeans(n_clusters=2, random_state=0)\n",
    "\n",
    "kmeans.fit(X)"
   ]
  },
  {
   "cell_type": "markdown",
   "metadata": {},
   "source": [
    "# K-Means Model Parametreleri Çalışması\n"
   ]
  },
  {
   "cell_type": "code",
   "execution_count": 27,
   "metadata": {},
   "outputs": [
    {
     "data": {
      "text/plain": [
       "array([[9.54921576e-01, 6.46330441e-02, 2.67028654e-02, 2.93171709e-02,\n",
       "        5.71231462e-02, 4.71007076e-02, 8.18581889e-03, 9.65207685e-03,\n",
       "        8.04219428e-03, 7.19501847e-03],\n",
       "       [3.28506857e-01, 3.90710874e-02, 7.54854864e-04, 7.53667113e-04,\n",
       "        3.85438884e-02, 2.17448568e-03, 2.43721364e-03, 1.20039760e-03,\n",
       "        2.75348016e-03, 1.45313276e-03]])"
      ]
     },
     "execution_count": 27,
     "metadata": {},
     "output_type": "execute_result"
    }
   ],
   "source": [
    "kmeans.cluster_centers_\n"
   ]
  },
  {
   "cell_type": "markdown",
   "metadata": {},
   "source": [
    "K-Means algoritması, verileri kümelere ayırırken her kümenin ortasında bir merkez noktası belirler. İki kümenin merkez noktaları:K-Means algoritması, verileri kümelere ayırırken her kümenin ortasında bir merkez noktası belirler. İşte iki kümenin merkez aşağıdaki yukarıdaki gibidir:"
   ]
  },
  {
   "cell_type": "markdown",
   "metadata": {},
   "source": [
    "\n",
    "1. **İlk Kümenin Merkezi (Centroid):**\n",
    "   - \\([0.954921576, 0.0646330441, 0.0267028654, 0.0293171709, 0.0571231462, 0.0471007076, 0.00818581889, 0.00965207685, 0.00804219428, 0.00719501847]\\)\n",
    "\n",
    "2. **İkinci Kümenin Merkezi (Centroid):**\n",
    "   - \\([0.328506857, 0.0390710874, 0.000754854864, 0.000753667113, 0.0385438884, 0.00217448568, 0.00243721364, 0.0012003976, 0.00275348016, 0.00145313276]\\)\n",
    "\n",
    "Bu merkezler, her bir kümenin ortalama özellik değerlerini temsil eder. Kümelerin her bir özelliği için bu değerler, o özelliğin kümeye ait veriler arasında ortalama değerini gösterir."
   ]
  },
  {
   "cell_type": "markdown",
   "metadata": {},
   "source": [
    "\n",
    "**Inertia (İçsel Tutarlılık):**\n",
    "Inertia, kümelerin ne kadar iyi ayrıldığını ölçen bir değerdir. Düşük inertia, kümelerin iyi ayrıldığını ve verilerin daha düzenli olduğunu gösterir. Bu, kümelerin içindeki verilerin birbirine ne kadar yakın olduğunu ölçer. Inertia'nın değeri ne kadar düşükse, kümeler o kadar iyi oluşturulmuş demektir.\n",
    "\n",
    "\n",
    "**Yüksek Boyutlu Veriler:**\n",
    "Eğer veriler çok fazla özelliğe sahipse (yani, yüksek boyutlu verilerse), uzaklıklar çok büyük olabilir. Bu, verileri kümelere ayırmayı zorlaştırır. Bu problemi hafifletmek için, **PCA** gibi boyut indirgeme yöntemleri kullanarak veriyi daha küçük bir boyutta işleyebiliriz. Bu, işlemleri hızlandırabilir ve daha iyi sonuçlar verebilir.\n"
   ]
  },
  {
   "cell_type": "code",
   "execution_count": 28,
   "metadata": {},
   "outputs": [
    {
     "data": {
      "text/plain": [
       "237.75726404419535"
      ]
     },
     "execution_count": 28,
     "metadata": {},
     "output_type": "execute_result"
    }
   ],
   "source": [
    "kmeans.inertia_\n"
   ]
  },
  {
   "cell_type": "markdown",
   "metadata": {},
   "source": [
    "- **Model Inertia**: 237.75\n",
    "\n",
    "**Düşük Inertia Daha İyi:**\n",
    "Kümeleme modelimizin inertia değeri oldukça yüksek. Bu, kümelerin verileri iyi bir şekilde ayırmadığı anlamına gelir. Yani, bu model verilerimiz için pek uygun değil.\n"
   ]
  },
  {
   "cell_type": "markdown",
   "metadata": {},
   "source": [
    "KMeans algoritması, merkezleri seçerken amacı, inertia’yı yani iç-küme kareler toplamını minimize etmektir. Bu, kümelerin içindeki verilerin ne kadar sıkı bir şekilde toplandığını gösterir ve daha düşük bir inertia, kümelerin daha uyumlu olduğunu ifade eder."
   ]
  },
  {
   "cell_type": "markdown",
   "metadata": {},
   "source": [
    "# 8. Modelin sınıflandırma (classification) kalitesini kontrol etme\n"
   ]
  },
  {
   "cell_type": "code",
   "execution_count": 29,
   "metadata": {},
   "outputs": [
    {
     "name": "stdout",
     "output_type": "stream",
     "text": [
      "7050 örnekten 4288 doğru etiketlendi.\n"
     ]
    }
   ],
   "source": [
    "labels = kmeans.labels_\n",
    "\n",
    "#kaç örneğin doğru etiketlendiğini kontrol et\n",
    "correct_labels = sum(y == labels)\n",
    "\n",
    "print(\"%d örnekten %d doğru etiketlendi.\" % (y.size,correct_labels))"
   ]
  },
  {
   "cell_type": "code",
   "execution_count": 30,
   "metadata": {},
   "outputs": [
    {
     "name": "stdout",
     "output_type": "stream",
     "text": [
      "Doğruluk (accuracy) skoru: 0.61\n"
     ]
    }
   ],
   "source": [
    "print('Doğruluk (accuracy) skoru: {0:0.2f}'.format(correct_labels/float(y.size)))\n"
   ]
  },
  {
   "cell_type": "markdown",
   "metadata": {},
   "source": [
    "Modelimizle, denetimsiz bir modelle %61 oranında orta seviye bir sınıflandırma doğruluğu elde ettik.\n"
   ]
  },
  {
   "cell_type": "markdown",
   "metadata": {},
   "source": [
    "# 9. En uygun küme sayısını bulmak için dirsek yöntemini kullanma"
   ]
  },
  {
   "cell_type": "code",
   "execution_count": 31,
   "metadata": {},
   "outputs": [
    {
     "data": {
      "image/png": "[encoded data removed]",
      "text/plain": [
       "<Figure size 640x480 with 1 Axes>"
      ]
     },
     "metadata": {},
     "output_type": "display_data"
    }
   ],
   "source": [
    "from sklearn.cluster import KMeans\n",
    "internia = []\n",
    "\n",
    "#1 kümeden 10 kümeye kadar inceleme yapacağız:\n",
    "\n",
    "for i in range (1,11):\n",
    "    kmeans = KMeans(\n",
    "    n_clusters=i,          # Verileri 3 kümeye ayıracağız\n",
    "    init='k-means++',      # Küme merkezlerini en iyi şekilde başlatacağız\n",
    "    max_iter=300,          # Algoritma en fazla 300 kez dönecek\n",
    "    n_init=10,             # 10 farklı başlangıç noktası deneyeceğiz\n",
    "    random_state=0         # Aynı sonuçları almak için rastgeleliği kontrol edeceğiz\n",
    ")\n",
    "    kmeans.fit(X)\n",
    "    internia.append(kmeans.inertia_)\n",
    "\n",
    "plt.plot(range(1,11), internia)\n",
    "plt.title('Dirsek Yöntemi (The Elbow Method)')\n",
    "plt.xlabel('Küme sayısı')\n",
    "plt.ylabel('Maliyet Skoru (Cost Score)')\n",
    "plt.show()"
   ]
  },
  {
   "cell_type": "markdown",
   "metadata": {},
   "source": [
    "\n",
    "Bu grafikte, bir noktada karışıklık (distortion) birdenbire düşer ve bu noktayı \"dirsek noktası\" olarak adlandırırız. Bu, balonları en iyi şekilde organize edebileceğimiz grup sayısını bulmamıza yardımcı olur."
   ]
  },
  {
   "cell_type": "markdown",
   "metadata": {},
   "source": [
    "Dirsek noktası olan 2 için modelimizi uygulayalım:"
   ]
  },
  {
   "cell_type": "code",
   "execution_count": 36,
   "metadata": {},
   "outputs": [
    {
     "name": "stdout",
     "output_type": "stream",
     "text": [
      "4288 örnekten 7050 örnek doğru etiketlendi.\n",
      "Accuracy score : 0.61\n"
     ]
    }
   ],
   "source": [
    "from sklearn.cluster import KMeans\n",
    "\n",
    "kmeans = KMeans(n_clusters = 2, random_state = 0)\n",
    "\n",
    "kmeans.fit(X)\n",
    "\n",
    "labels = kmeans.labels_\n",
    "\n",
    "#accuracy skoru için doğru label'ları bulalım\n",
    "correct_labels = sum (y == labels)\n",
    "\n",
    "print(\"%d örnekten %d örnek doğru etiketlendi.\" % (correct_labels, y.size))\n",
    "\n",
    "print('Accuracy score : {0:0.2f}' . format(correct_labels/float(y.size)))"
   ]
  },
  {
   "cell_type": "markdown",
   "metadata": {},
   "source": [
    "3 için de deneyeceğim, bakalım doğruluk daha mı yüksek gelecek."
   ]
  },
  {
   "cell_type": "code",
   "execution_count": 40,
   "metadata": {},
   "outputs": [
    {
     "name": "stdout",
     "output_type": "stream",
     "text": [
      "0.5767375886524823\n"
     ]
    }
   ],
   "source": [
    "from sklearn.metrics import accuracy_score,f1_score,recall_score,precision_score,confusion_matrix,roc_curve,roc_auc_score,auc\n",
    "from sklearn.cluster import KMeans\n",
    "\n",
    "kmeans =KMeans(n_clusters = 3, random_state = 0)\n",
    "\n",
    "kmeans.fit(X)\n",
    "\n",
    "labels =kmeans.labels_\n",
    "\n",
    "correct_labels = sum(y == labels)\n",
    "\n",
    "acc = correct_labels/y.size\n",
    "\n",
    "print(acc)"
   ]
  },
  {
   "cell_type": "markdown",
   "metadata": {},
   "source": [
    "Görüldüğü gibi daha düşük bir doğruluk değerine ulaştık."
   ]
  },
  {
   "cell_type": "markdown",
   "metadata": {},
   "source": [
    "# 10. Sonuç"
   ]
  },
  {
   "cell_type": "markdown",
   "metadata": {},
   "source": [
    "* Bu projede en yaygın denetimsiz öğrenme tekniği olan K-Means Clustering'i kullandık.\n",
    "\n",
    "* Dirsek değerini 2 olarak bulduk, dolayısıyla n_clusters'i ilk olarak 2 için denedik\n",
    "\n",
    "* 0.61 doğruluk değerine ulaştık.\n",
    "\n",
    "* Bir de 3 için deneyelim dedik fakat biraz daha düşük bir accuracy skoruna ulaştık."
   ]
  },
  {
   "cell_type": "markdown",
   "metadata": {},
   "source": [
    "# 11. Referans:\n"
   ]
  },
  {
   "cell_type": "markdown",
   "metadata": {},
   "source": [
    "https://www.kaggle.com/code/prashant111/k-means-clustering-with-python/notebook#6.-Import-libraries-"
   ]
  },
  {
   "cell_type": "code",
   "execution_count": null,
   "metadata": {},
   "outputs": [],
   "source": []
  }
 ],
 "metadata": {
  "colab": {
   "provenance": []
  },
  "kernelspec": {
   "display_name": "Python 3 (ipykernel)",
   "language": "python",
   "name": "python3"
  },
  "language_info": {
   "codemirror_mode": {
    "name": "ipython",
    "version": 3
   },
   "file_extension": ".py",
   "mimetype": "text/x-python",
   "name": "python",
   "nbconvert_exporter": "python",
   "pygments_lexer": "ipython3",
   "version": "3.12.3"
  }
 },
 "nbformat": 4,
 "nbformat_minor": 1
}
